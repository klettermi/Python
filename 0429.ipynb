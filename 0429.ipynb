{
  "nbformat": 4,
  "nbformat_minor": 0,
  "metadata": {
    "colab": {
      "provenance": [],
      "authorship_tag": "ABX9TyMu79UPeoXXJgBeYP+nEU+J",
      "include_colab_link": true
    },
    "kernelspec": {
      "name": "python3",
      "display_name": "Python 3"
    },
    "language_info": {
      "name": "python"
    }
  },
  "cells": [
    {
      "cell_type": "markdown",
      "metadata": {
        "id": "view-in-github",
        "colab_type": "text"
      },
      "source": [
        "<a href=\"https://colab.research.google.com/github/klettermi/Python/blob/main/0429.ipynb\" target=\"_parent\"><img src=\"https://colab.research.google.com/assets/colab-badge.svg\" alt=\"Open In Colab\"/></a>"
      ]
    },
    {
      "cell_type": "code",
      "execution_count": null,
      "metadata": {
        "colab": {
          "base_uri": "https://localhost:8080/"
        },
        "id": "W6PhR0SqSDgS",
        "outputId": "82db23d1-0493-4e67-dfc0-ddb2a4d101bd"
      },
      "outputs": [
        {
          "output_type": "stream",
          "name": "stdout",
          "text": [
            "5\n",
            "R R R U D D\n",
            "2   1\n",
            "3   1\n",
            "4   1\n",
            "4   1\n",
            "4   2\n",
            "4   3\n",
            "4   3\n"
          ]
        }
      ],
      "source": [
        "# NxN, 가장 왼쪽 (1, 1)\n",
        "# 상하좌우우 이동\n",
        "# 입력\n",
        "# 첫번째 줄 N\n",
        "# 두번째 줄 이동 문자\n",
        "N = int(input())\n",
        "m_list = list(input().split())\n",
        "n_loc = [1, 1]\n",
        "\n",
        "for i in range(len(m_list)):\n",
        "  if m_list[i] == 'L':  # left\n",
        "    if n_loc[0] == 1:\n",
        "      pass\n",
        "    else:\n",
        "      n_loc[0] -= 1\n",
        "  elif m_list[i] == 'R':  # right\n",
        "    if n_loc[0] == N:\n",
        "      pass\n",
        "    else:\n",
        "      n_loc[0] += 1\n",
        "  elif m_list[i] == 'U':  # up\n",
        "    if n_loc[1] == 1:\n",
        "      pass\n",
        "    else:\n",
        "      n_loc[1] -= 1\n",
        "  elif m_list[i] == 'D':  # down\n",
        "    if n_loc[1] == N:\n",
        "      pass\n",
        "    else:\n",
        "      n_loc[1] += 1\n",
        "\n",
        "print(n_loc[0],\" \",n_loc[1])"
      ]
    },
    {
      "cell_type": "code",
      "source": [
        "n = int(input())  # n 입력받기 \n",
        "x, y = 1, 1 # 초기 x, y 좌표\n",
        "plans = input().split()\n",
        "\n",
        "# L, R, U, D에 따른 이동 방향\n",
        "dx = [-1, 1, 0, 0]\n",
        "dy = [0, 0, -1, 1]\n",
        "move_types = ['L', 'R', 'U', 'D']\n",
        "\n",
        "# 이동 계획을 하나씩 확인하기 \n",
        "for plan in plans:\n",
        "  # 이동 후 좌표 구하기\n",
        "  for i in range(len(move_types)):\n",
        "    if plan == move_types[i]:\n",
        "      nx = x + dx[i]\n",
        "      ny = y + dy[i]\n",
        "    # 공간을 벗어나는 경우 무시\n",
        "  if nx < 1 or ny < 1 or nx > n or ny > n:\n",
        "    continue\n",
        "  # 수행 후 좌표\n",
        "  x, y = nx, ny\n",
        "\n",
        "print(x, y)"
      ],
      "metadata": {
        "id": "Lf70aVVHT_Zx",
        "colab": {
          "base_uri": "https://localhost:8080/"
        },
        "outputId": "673e2278-7333-4812-993c-13a387e22444"
      },
      "execution_count": 5,
      "outputs": [
        {
          "output_type": "stream",
          "name": "stdout",
          "text": [
            "5\n",
            "R R R U D D\n",
            "4 3\n"
          ]
        }
      ]
    },
    {
      "cell_type": "code",
      "source": [
        "# H 입력 받기\n",
        "h = int(input())\n",
        "\n",
        "count = 0\n",
        "for i in range(h+1):\n",
        "  for j in range(60):\n",
        "    for k in range(60):\n",
        "      # 매 시각 안에 '3'이 포함되어 있다면 카운트 증가\n",
        "      if '3' in str(i) + str(j) + str(k):\n",
        "        count += 1\n",
        "\n",
        "print(count)"
      ],
      "metadata": {
        "colab": {
          "base_uri": "https://localhost:8080/"
        },
        "id": "ZS3nmt8zTgLN",
        "outputId": "5a4a83e5-5e1e-4215-9798-8e8707e9b8ca"
      },
      "execution_count": 6,
      "outputs": [
        {
          "output_type": "stream",
          "name": "stdout",
          "text": [
            "5\n",
            "11475\n"
          ]
        }
      ]
    },
    {
      "cell_type": "code",
      "source": [
        "# 현재 나이트의 위치 입력받기\n",
        "input_data = input()\n",
        "row = int(input_data[1])  \n",
        "column = int(ord(input_data[0])) - int(ord('a')) + 1\n",
        "\n",
        "# 나이트가 이동할 수 있는 8가지 방향 정의\n",
        "steps = [(-2, -1), (-1, -2), (1, -2), (2, -1), (2, 1), (1, 2), (-1, 2), (-2, 1)]\n",
        "\n",
        "# 8가지 방향에 대하여 각 위치로 이동이 가능한지 확인\n",
        "result = 0\n",
        "for step in steps:\n",
        "  # 이동하고자 하는 위치 확인\n",
        "  next_row = row + step[0]\n",
        "  next_column = column + step[1]\n",
        "  # 해당 위치로 이동이 가능하다면 카운트 증가\n",
        "  if next_row >= 1 and next_row <= 8 and next_column >= 1 and next_column <= 8:\n",
        "    result += 1\n",
        "\n",
        "print(result)"
      ],
      "metadata": {
        "colab": {
          "base_uri": "https://localhost:8080/"
        },
        "id": "RF6XJWbHXHfz",
        "outputId": "256a5b35-9681-4a34-8558-dd59159137f6"
      },
      "execution_count": 8,
      "outputs": [
        {
          "output_type": "stream",
          "name": "stdout",
          "text": [
            "a1\n",
            "2\n"
          ]
        }
      ]
    },
    {
      "cell_type": "code",
      "source": [
        "data = input()\n",
        "result = []\n",
        "value = 0\n",
        "\n",
        "# 문자를 하나씩 확인하며\n",
        "for x in data:\n",
        "  # 알파벳인 경우 결과 리스트에 삽입\n",
        "  if x.isalpha():\n",
        "    result.append(x)\n",
        "  # 숫자는 따로 더하기\n",
        "  else:\n",
        "    value += int(x)\n",
        "\n",
        "# 알파벳을 오름차순으로 정렬\n",
        "result.sort()\n",
        "\n",
        "# 숫자가 하나라도 존재하는 경우 가장 뒤에 삽입\n",
        "if value != 0:\n",
        "  result.append(str(value))\n",
        "\n",
        "# 최종 결과 출력(리스트를 문자열로 변환하여 출력)\n",
        "print(''.join(result))"
      ],
      "metadata": {
        "colab": {
          "base_uri": "https://localhost:8080/"
        },
        "id": "_BODdGIDaOse",
        "outputId": "58ac99a1-cc8b-4d69-c928-426c937e86f2"
      },
      "execution_count": 9,
      "outputs": [
        {
          "output_type": "stream",
          "name": "stdout",
          "text": [
            "K1KA5CB7\n",
            "ABCKK13\n"
          ]
        }
      ]
    },
    {
      "cell_type": "code",
      "source": [],
      "metadata": {
        "id": "gGqKY5zKcpRV"
      },
      "execution_count": null,
      "outputs": []
    }
  ]
}