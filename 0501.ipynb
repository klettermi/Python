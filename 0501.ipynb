{
  "nbformat": 4,
  "nbformat_minor": 0,
  "metadata": {
    "colab": {
      "provenance": [],
      "authorship_tag": "ABX9TyMWp/ZTOVkyTRbsWCa65BhU",
      "include_colab_link": true
    },
    "kernelspec": {
      "name": "python3",
      "display_name": "Python 3"
    },
    "language_info": {
      "name": "python"
    }
  },
  "cells": [
    {
      "cell_type": "markdown",
      "metadata": {
        "id": "view-in-github",
        "colab_type": "text"
      },
      "source": [
        "<a href=\"https://colab.research.google.com/github/klettermi/Python/blob/main/0501.ipynb\" target=\"_parent\"><img src=\"https://colab.research.google.com/assets/colab-badge.svg\" alt=\"Open In Colab\"/></a>"
      ]
    },
    {
      "cell_type": "code",
      "execution_count": 2,
      "metadata": {
        "colab": {
          "base_uri": "https://localhost:8080/"
        },
        "id": "ymJmWGEcn7Il",
        "outputId": "c11e0111-7e71-4e78-c69a-4435b33dbb39"
      },
      "outputs": [
        {
          "output_type": "stream",
          "name": "stdout",
          "text": [
            "반복적으로 구현:  120\n",
            "재귀적으로 구현:  120\n"
          ]
        }
      ],
      "source": [
        "# 팩토리얼\n",
        "# 반복적으로 구현한 n!\n",
        "def factorial_iterative(n):\n",
        "  result = 1\n",
        "  # 1부터 n까지의 수를 차례대로 곱하기\n",
        "  for i in range(1, n+1):\n",
        "    result *= i\n",
        "  return result\n",
        "\n",
        "# 재귀적으로 구현한 n!\n",
        "def factorial_recursive(n):\n",
        "  if n<= 1: # n이 1 이하인 경우는 1을 반환\n",
        "    return 1\n",
        "  # n! = n * (n-1)!를 그대로 코드로 작성하기\n",
        "  return n * factorial_recursive(n-1)\n",
        "\n",
        "# 각각의 방식으로 구현한 n! 출력(n = 5)\n",
        "print('반복적으로 구현: ', factorial_iterative(5))\n",
        "print('재귀적으로 구현: ', factorial_recursive(5))"
      ]
    },
    {
      "cell_type": "code",
      "source": [
        "# 유클리드 호제법\n",
        "def gcd(a, b):\n",
        "  if a % b == 0:\n",
        "    return b\n",
        "  else:\n",
        "    return gcd(b, a % b)\n",
        "\n",
        "print(gcd(192, 162))"
      ],
      "metadata": {
        "colab": {
          "base_uri": "https://localhost:8080/"
        },
        "id": "i_mkHNPQpLwO",
        "outputId": "aec4e137-451a-4224-d682-93df238e993c"
      },
      "execution_count": 3,
      "outputs": [
        {
          "output_type": "stream",
          "name": "stdout",
          "text": [
            "6\n"
          ]
        }
      ]
    },
    {
      "cell_type": "code",
      "source": [
        "# DFS\n",
        "def dfs(graph, v, visited):\n",
        "  # 현재 노드를 방문 처리\n",
        "  visited[v] = True\n",
        "  print(v, end=' ')\n",
        "  # 현재 노드와 연결된 다른 노드를 재귀적으로 방문\n",
        "  for i in graph[v]:\n",
        "    if not visited[i]:\n",
        "      dfs(graph, i, visited)\n",
        "\n",
        "# 각 노드가 연결된 정보를 표현(2차원 리스트)\n",
        "graph = [\n",
        "    [],\n",
        "    [2, 3, 8],\n",
        "    [1, 7],\n",
        "    [1, 4, 5],\n",
        "    [3, 5],\n",
        "    [3, 4],\n",
        "    [7],\n",
        "    [2, 6, 8],\n",
        "    [1, 7]\n",
        "]\n",
        "\n",
        "# 각 노드가 방문된 정보를 표현(1차원 리스트)\n",
        "visited = [False] * 9\n",
        "\n",
        "# 정의된 DFS 함수 호출\n",
        "dfs(graph, 1, visited)"
      ],
      "metadata": {
        "colab": {
          "base_uri": "https://localhost:8080/"
        },
        "id": "Cg34Z_h6qDM3",
        "outputId": "f466838b-f0fd-4619-b9d7-51a13f5bac1e"
      },
      "execution_count": 4,
      "outputs": [
        {
          "output_type": "stream",
          "name": "stdout",
          "text": [
            "1 2 7 6 8 3 4 5 "
          ]
        }
      ]
    },
    {
      "cell_type": "code",
      "source": [],
      "metadata": {
        "id": "h8rpc6LwvT2a"
      },
      "execution_count": null,
      "outputs": []
    }
  ]
}