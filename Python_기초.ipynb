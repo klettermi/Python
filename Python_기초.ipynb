{
  "nbformat": 4,
  "nbformat_minor": 0,
  "metadata": {
    "colab": {
      "provenance": [],
      "authorship_tag": "ABX9TyPZBPaextm2Xr62xND4vdcm",
      "include_colab_link": true
    },
    "kernelspec": {
      "name": "python3",
      "display_name": "Python 3"
    },
    "language_info": {
      "name": "python"
    }
  },
  "cells": [
    {
      "cell_type": "markdown",
      "metadata": {
        "id": "view-in-github",
        "colab_type": "text"
      },
      "source": [
        "<a href=\"https://colab.research.google.com/github/klettermi/Python/blob/main/Python_%EA%B8%B0%EC%B4%88.ipynb\" target=\"_parent\"><img src=\"https://colab.research.google.com/assets/colab-badge.svg\" alt=\"Open In Colab\"/></a>"
      ]
    },
    {
      "cell_type": "markdown",
      "source": [
        "# PYTHON 기본 사용법"
      ],
      "metadata": {
        "id": "kSkeIcvsd1AM"
      }
    },
    {
      "cell_type": "markdown",
      "source": [
        "## 단축키\n",
        "\n",
        "\n",
        "*   실행: ctrl + enter\n",
        "*   실행 및 셀 넘어감: shift + enter\n",
        "*   실행 및 아래 셀 추가: shift + enter\n",
        "*   셀 추가: 위 - esc + a, 아래 - esc + b\n",
        "*   셀 삭제: esc + x, dd\n",
        "*   주석: ctrl + /\n",
        "\n",
        "\n",
        "\n"
      ],
      "metadata": {
        "id": "JpOD6EHod8qU"
      }
    },
    {
      "cell_type": "markdown",
      "source": [
        "## 기본 입출력"
      ],
      "metadata": {
        "id": "P_fDPTRKejkc"
      }
    },
    {
      "cell_type": "code",
      "source": [
        "# 입력 input\n",
        "ans = input(\"이름은?\")\n",
        "print(\"입력값: \", ans)"
      ],
      "metadata": {
        "colab": {
          "base_uri": "https://localhost:8080/"
        },
        "id": "JxSRTPZJehH7",
        "outputId": "e4e1e033-42ed-43d1-ce9b-276ba9a581dd"
      },
      "execution_count": null,
      "outputs": [
        {
          "output_type": "stream",
          "name": "stdout",
          "text": [
            "이름은?장미\n",
            "입력값:  장미\n"
          ]
        }
      ]
    },
    {
      "cell_type": "code",
      "source": [
        "# 출력 print\n",
        "name = \"장미\"\n",
        "age = 27\n",
        "\n",
        "# 변수 출력\n",
        "print(\"1.\", name, age)\n",
        "\n",
        "# 변수 사이클 \"_\"로 연결\n",
        "print(\"2.\", name, age, sep=\"_\")\n",
        "\n",
        "# 변수 출력 후 줄넘김 없이 공백으로 연결\n",
        "print(\"3.\", name, age, sep=\" \")\n",
        "print(name, age)"
      ],
      "metadata": {
        "colab": {
          "base_uri": "https://localhost:8080/"
        },
        "id": "vu2woob6eq8B",
        "outputId": "d8c4de5f-883e-4a0c-8b05-be6431041edb"
      },
      "execution_count": null,
      "outputs": [
        {
          "output_type": "stream",
          "name": "stdout",
          "text": [
            "1. 장미 27\n",
            "2._장미_27\n",
            "3. 장미 27\n",
            "장미 27\n"
          ]
        }
      ]
    },
    {
      "cell_type": "markdown",
      "source": [
        "## Data Type\n",
        "\n",
        "> 숫자형(Numeric)\n",
        "*   정수(Integer)\n",
        "*   실수(Real Number)\n",
        "*   복소수(Complex Number)\n",
        "*   불리언(Boolean)\n",
        "\n",
        "\n",
        "> 시퀀스(Sequence)\n",
        "*   문자열(String)\n",
        "*   리스트(List)\n",
        "*   튜플(Tuple)\n",
        "\n",
        "> 셋(Set)\n",
        "*   셋(Set)\n",
        "\n",
        "> 매핑(Mapping)\n",
        "*   사전(Dictionary)"
      ],
      "metadata": {
        "id": "TI-sG-aYfFaF"
      }
    },
    {
      "cell_type": "markdown",
      "source": [
        "## 숫자형(Numeric)"
      ],
      "metadata": {
        "id": "hZBKhOi1f8qi"
      }
    },
    {
      "cell_type": "markdown",
      "source": [
        "### 정수(Integer)"
      ],
      "metadata": {
        "id": "e-n_5f4VgBzb"
      }
    },
    {
      "cell_type": "code",
      "source": [
        "# python은 계산 크기의 제한이 없음.\n",
        "a = 10000\n",
        "b = a*10000*1000*1000\n",
        "print(b*b)"
      ],
      "metadata": {
        "colab": {
          "base_uri": "https://localhost:8080/"
        },
        "id": "7Ae5AlQTfA4i",
        "outputId": "bb549d0f-c252-4161-dc63-408c28bccb12"
      },
      "execution_count": null,
      "outputs": [
        {
          "output_type": "stream",
          "name": "stdout",
          "text": [
            "10000000000000000000000000000\n"
          ]
        }
      ]
    },
    {
      "cell_type": "code",
      "source": [
        "# 10진수\n",
        "j10 = 100 # 10진수\n",
        "print(\"10진수: \", j10, \"타입: \", type(j10))\n",
        "\n",
        "# 2진수\n",
        "j2 = 0b110 # 2진수\n",
        "print(\"2진수: \", j2, \"타입: \", type(j2))\n",
        "\n",
        "# 8진수\n",
        "j8 = 0o11 # 8진수\n",
        "print(\"8진수: \", j8, \"타입: \", type(j8))\n",
        "\n",
        "# 16진수\n",
        "j16_1 = 0x11 # 16진수\n",
        "j16_2 = 0x9abcdef\n",
        "print(\"16진수: \", j16_1, j16_2, \"타입: \", type(j16_1), sep = ' ')"
      ],
      "metadata": {
        "colab": {
          "base_uri": "https://localhost:8080/"
        },
        "id": "xD2--7o8gJs3",
        "outputId": "ad77425e-3387-413f-cd95-50bd625c030f"
      },
      "execution_count": null,
      "outputs": [
        {
          "output_type": "stream",
          "name": "stdout",
          "text": [
            "10진수:  100 타입:  <class 'int'>\n",
            "2진수:  6 타입:  <class 'int'>\n",
            "8진수:  9 타입:  <class 'int'>\n",
            "16진수:  17 162254319 타입:  <class 'int'>\n"
          ]
        }
      ]
    },
    {
      "cell_type": "markdown",
      "source": [
        "### 실수(Real Number)"
      ],
      "metadata": {
        "id": "k2ke8Sh_g_fl"
      }
    },
    {
      "cell_type": "code",
      "source": [
        "# 실수\n",
        "a = 1.0\n",
        "print(\"실수: \", a, \"타입: \", type(a))\n",
        "\n",
        "b = 10.0\n",
        "print(\"실수: \", b, \"타입: \", type(b))"
      ],
      "metadata": {
        "colab": {
          "base_uri": "https://localhost:8080/"
        },
        "id": "5JJtB2T_g1fo",
        "outputId": "cbb5845b-2ca4-4c22-f23e-27ce5c2d93ef"
      },
      "execution_count": null,
      "outputs": [
        {
          "output_type": "stream",
          "name": "stdout",
          "text": [
            "실수:  1.0 타입:  <class 'float'>\n",
            "실수:  10.0 타입:  <class 'float'>\n"
          ]
        }
      ]
    },
    {
      "cell_type": "markdown",
      "source": [
        "### 복소수(Complex Number)"
      ],
      "metadata": {
        "id": "Vhmamy0QhORN"
      }
    },
    {
      "cell_type": "code",
      "source": [
        "# 복소수\n",
        "a = 2 + 3j\n",
        "print(\"복소수: \", a, \"타입: \", type(a))\n",
        "\n",
        "b = 5 + 10j\n",
        "print(\"복소수: \", b, \"타입: \", type(b))"
      ],
      "metadata": {
        "colab": {
          "base_uri": "https://localhost:8080/"
        },
        "id": "QG0UBTQXhNGr",
        "outputId": "0efd7c00-75e3-41ee-e781-a4e9c820b0f0"
      },
      "execution_count": null,
      "outputs": [
        {
          "output_type": "stream",
          "name": "stdout",
          "text": [
            "복소수:  (2+3j) 타입:  <class 'complex'>\n",
            "복소수:  (5+10j) 타입:  <class 'complex'>\n"
          ]
        }
      ]
    },
    {
      "cell_type": "markdown",
      "source": [
        "### 불리언(Boolean)"
      ],
      "metadata": {
        "id": "kKsbRpjghbVi"
      }
    },
    {
      "cell_type": "code",
      "source": [
        "# 불리언\n",
        "a = True\n",
        "print(\"불리언: \", a, \"/ 타입: \", type(a), \" / 1: \", bool(1))\n",
        "\n",
        "b = False\n",
        "print(\"불리언: \", b, \"/ 타입: \", type(b), \" / 1: \", bool(0))\n",
        "print()\n",
        "\n",
        "# 불리언의 거짓 상황\n",
        "print(\"불리언의 거짓 상황\")\n",
        "print(bool(None), end = ' ')\n",
        "print(bool(False), end = ' ')\n",
        "print(bool(0), end = ' ')\n",
        "print(bool(set()), end = ' ')\n",
        "print(bool(list()), end = ' ')\n",
        "print(bool(dict()), end = ' ')\n",
        "print(bool(\"\"), end = ' ')\n",
        "print()\n",
        "print()\n",
        "\n",
        "# 불리언의 참 상황\n",
        "print(\"실수의 값은: \", bool(3.1))\n",
        "print(\"공백의 값은: \", bool(\" \"))"
      ],
      "metadata": {
        "colab": {
          "base_uri": "https://localhost:8080/"
        },
        "id": "b3zPiVgAhaVZ",
        "outputId": "6393a652-28ec-4020-b6ae-0a6ad9ffbaa0"
      },
      "execution_count": null,
      "outputs": [
        {
          "output_type": "stream",
          "name": "stdout",
          "text": [
            "불리언:  True / 타입:  <class 'bool'>  / 1:  True\n",
            "불리언:  False / 타입:  <class 'bool'>  / 1:  False\n",
            "\n",
            "불리언의 거짓 상황\n",
            "False False False False False False False \n",
            "\n",
            "실수의 값은:  True\n",
            "공백의 값은:  True\n"
          ]
        }
      ]
    },
    {
      "cell_type": "markdown",
      "source": [
        "### 숫자형 타입 변경"
      ],
      "metadata": {
        "id": "y3eMA3zeiF51"
      }
    },
    {
      "cell_type": "code",
      "source": [
        "# 숫자형 타입 변경\n",
        "# 정수 -> 실수, 실수 -> 정수\n",
        "print(77, type(77), \"->\", float(77), type(float(77))) # int -> float\n",
        "print(3.14, type(3.14), \"->\", int(3.14), type(int(3.14))) # float -> int\n",
        "print()\n",
        "\n",
        "# 정수 -> 불리언, 불리언 -> 정수\n",
        "print(True, type(True), \"->\", int(True), type(int(True))) # bool -> int\n",
        "print(0, type(0), \"->\", bool(0), type(bool(0))) # int -> bool\n",
        "print()"
      ],
      "metadata": {
        "colab": {
          "base_uri": "https://localhost:8080/"
        },
        "id": "8vFFK7xUiDiG",
        "outputId": "59cbf6fd-2877-4ec6-f1ef-3813bc776f4b"
      },
      "execution_count": null,
      "outputs": [
        {
          "output_type": "stream",
          "name": "stdout",
          "text": [
            "77 <class 'int'> -> 77.0 <class 'float'>\n",
            "3.14 <class 'float'> -> 3 <class 'int'>\n",
            "\n",
            "True <class 'bool'> -> 1 <class 'int'>\n",
            "0 <class 'int'> -> False <class 'bool'>\n",
            "\n"
          ]
        }
      ]
    },
    {
      "cell_type": "markdown",
      "source": [
        "### 연산자\n",
        "\n",
        "\n",
        "*   산술 연산자: +, -, /, %, // 등\n",
        "*   비교 연산자: >, <, >=, <=, != 등\n",
        "*   논리 연산자: or, and, not 등\n"
      ],
      "metadata": {
        "id": "Mo5t8BOui2IZ"
      }
    },
    {
      "cell_type": "code",
      "source": [
        "# 산술 연산자\n",
        "print(\"덧셈: \", 10+2, \" / \", end = \" \") # 덧셈\n",
        "print(\"뺄셈: \", 10-2, \" / \", end = \" \") # 뺄셈\n",
        "print(\"곱하기: \", 10*2, \" / \", end = \" \") # 곱하기\n",
        "print(\"나누기: \", 10/3, \" / \", end = \" \") # 나누기\n",
        "print()\n",
        "\n",
        "print(\"몫: \", 10//3, \" / \", end = \" \") # 몫\n",
        "print(\"나머지: \", 10%3, \" / \", end = \" \") # 나머지\n",
        "print(\"몫과 나머지: \", divmod(10,3)) # 몫, 나머지\n",
        "print()\n",
        "\n",
        "print(\"절댓값: \", abs(-9), \" / \", end = \" \") # 절댓값\n",
        "print(\"거듭제곱: \", 10**2, \" / \", end = \" \") # 거듭제곱\n",
        "print(\"거듭제곱: \", pow(10,2)) # 거듭제곱\n",
        "print()\n",
        "\n",
        "print(\"정수로 변환: \", int(10.5), \" / \", end = \" \") # 정수로 변환\n",
        "print(\"실수로 변환: \", float(10)) # 실수로 변환\n",
        "print()\n",
        "\n",
        "print(\"복소수: \", complex(10,2), \" / \", end = \" \")  # 복소수\n",
        "print(\"양수: \", +10, \" / \", end = \" \")  # 양수\n",
        "print(\"음수: \", -10, \" / \", end = \" \")  # 음수"
      ],
      "metadata": {
        "colab": {
          "base_uri": "https://localhost:8080/"
        },
        "id": "jr0ok99HizsK",
        "outputId": "8731f48d-b644-4b29-f04f-9bb788fe739c"
      },
      "execution_count": null,
      "outputs": [
        {
          "output_type": "stream",
          "name": "stdout",
          "text": [
            "덧셈:  12  /  뺄셈:  8  /  곱하기:  20  /  나누기:  3.3333333333333335  /  \n",
            "몫:  3  /  나머지:  1  /  몫과 나머지:  (3, 1)\n",
            "\n",
            "절댓값:  9  /  거듭제곱:  100  /  거듭제곱:  100\n",
            "\n",
            "정수로 변환:  10  /  실수로 변환:  10.0\n",
            "\n",
            "복소수:  (10+2j)  /  양수:  10  /  음수:  -10  /  "
          ]
        }
      ]
    },
    {
      "cell_type": "code",
      "source": [
        "# 산술 연산자 예시\n",
        "# 날짜값에서 년, 월, 일 추출\n",
        "today = 20230421\n",
        "print(\"today: \", today)\n",
        "\n",
        "year = today // 10000\n",
        "month = today % 10000 // 100\n",
        "day = today % 10000 % 100\n",
        "\n",
        "print(\"year: \", year)\n",
        "print(\"month: \", month)\n",
        "print(\"day: \", day)"
      ],
      "metadata": {
        "colab": {
          "base_uri": "https://localhost:8080/"
        },
        "id": "l4XA7J-9jzhD",
        "outputId": "82c3214d-316c-4bb8-e5ae-8e2a9b63be0e"
      },
      "execution_count": null,
      "outputs": [
        {
          "output_type": "stream",
          "name": "stdout",
          "text": [
            "today:  20230421\n",
            "year:  2023\n",
            "month:  4\n",
            "day:  21\n"
          ]
        }
      ]
    },
    {
      "cell_type": "code",
      "source": [
        "# 비교 연산자\n",
        "print(\"7 < 3 \", 7<3)  # 작은\n",
        "print(\"7 <= 3 \", 7<=3)  # 작거나 같은\n",
        "print(\"7 > 3 \", 7>3)  # 큰\n",
        "print(\"7 >= 3 \", 7>=3)  # 크거나 같은\n",
        "print(\"7 == 3 \", 7==3)  # 같은\n",
        "print(\"7 != 3 \", 7!=3)  # 같지 않은\n",
        "print(\"7 is 3 \", 7 is 3)   # 같은 객체\n",
        "print(\"7 is not 3 \", 7 is not 3)  # 같은 객체 아님"
      ],
      "metadata": {
        "colab": {
          "base_uri": "https://localhost:8080/"
        },
        "id": "YkOzTemilPeS",
        "outputId": "b608c093-9682-4783-fe43-1274c823c0a3"
      },
      "execution_count": null,
      "outputs": [
        {
          "output_type": "stream",
          "name": "stdout",
          "text": [
            "7 < 3  False\n",
            "7 <= 3  False\n",
            "7 > 3  True\n",
            "7 >= 3  True\n",
            "7 == 3  False\n",
            "7 != 3  True\n",
            "7 is 3  False\n",
            "7 is not 3  True\n"
          ]
        },
        {
          "output_type": "stream",
          "name": "stderr",
          "text": [
            "<>:8: SyntaxWarning: \"is\" with a literal. Did you mean \"==\"?\n",
            "<>:9: SyntaxWarning: \"is not\" with a literal. Did you mean \"!=\"?\n",
            "<>:8: SyntaxWarning: \"is\" with a literal. Did you mean \"==\"?\n",
            "<>:9: SyntaxWarning: \"is not\" with a literal. Did you mean \"!=\"?\n",
            "<ipython-input-19-3cbf62f330cb>:8: SyntaxWarning: \"is\" with a literal. Did you mean \"==\"?\n",
            "  print(\"7 is 3 \", 7 is 3)   # 같은 객체\n",
            "<ipython-input-19-3cbf62f330cb>:9: SyntaxWarning: \"is not\" with a literal. Did you mean \"!=\"?\n",
            "  print(\"7 is not 3 \", 7 is not 3)  # 같은 객체 아님\n"
          ]
        }
      ]
    },
    {
      "cell_type": "code",
      "source": [
        "# 논리 연산자\n",
        "a = True\n",
        "b = False\n",
        "\n",
        "print(\"a or b: \", a or b) # a 또는 b 중 하나만 참\n",
        "print(\"a and b: \", a and b) # a,b 둘 다 참\n",
        "print(\"not a: \", not a) # a가 거짓이면 참\n",
        "print(\"not b: \", not b) # b가 거짓이면 참"
      ],
      "metadata": {
        "colab": {
          "base_uri": "https://localhost:8080/"
        },
        "id": "fsZsRjnRlupo",
        "outputId": "4324ff88-35b8-4d4f-c58f-ee8f0671eb89"
      },
      "execution_count": null,
      "outputs": [
        {
          "output_type": "stream",
          "name": "stdout",
          "text": [
            "a or b:  True\n",
            "a and b:  False\n",
            "not a:  False\n",
            "not b:  True\n"
          ]
        }
      ]
    },
    {
      "cell_type": "markdown",
      "source": [
        "## 시퀀스(Sequence)"
      ],
      "metadata": {
        "id": "EIl-owssmd_f"
      }
    },
    {
      "cell_type": "markdown",
      "source": [
        "### 문자열(String)"
      ],
      "metadata": {
        "id": "yF7qjN_amqB0"
      }
    },
    {
      "cell_type": "markdown",
      "source": [
        "#### 문자열 생성"
      ],
      "metadata": {
        "id": "IKNBrfOam2Nf"
      }
    },
    {
      "cell_type": "code",
      "source": [
        "# 큰 따옴표(\"\") / 작은 따옴표('') 사용\n",
        "print(\"큰 따옴표(\\\"\\\") 사용: \", \"hello python\")\n",
        "print(\"작은 따옴표('') 사용: \", 'hello python')"
      ],
      "metadata": {
        "colab": {
          "base_uri": "https://localhost:8080/"
        },
        "id": "C5_QEtvpmRQx",
        "outputId": "78a848d4-da26-45e9-9e97-bcce7eb292f3"
      },
      "execution_count": null,
      "outputs": [
        {
          "output_type": "stream",
          "name": "stdout",
          "text": [
            "큰 따옴표(\"\") 사용:  hello python\n",
            "작은 따옴표('') 사용:  hello python\n"
          ]
        }
      ]
    },
    {
      "cell_type": "code",
      "source": [
        "# 여러 줄에 걸친 문자열 생성\n",
        "\n",
        "# \\ 입력은 여러 줄에 걸쳐 있으나 출력은 한 줄로 연결\n",
        "poem1 = \"아무 계획이 없어서 완벽한 plan \\\n",
        "우연히 찾아낸 secret place\"\n",
        "print(\"\\ 사용:\", poem1)\n",
        "print()\n",
        "\n",
        "# \"\"\" \"\"\" 입력과 출력 모두 여러줄 가능\n",
        "poem2 = \"\"\" 잊지마 넌 흐린 어둠 사이 왼손으로 그린 별 하나\n",
        "보이니 그 유일함이 얼마나 아름다운지 말야 \"\"\"\n",
        "print('\"\"\" \"\"\"사용: ', poem2)"
      ],
      "metadata": {
        "colab": {
          "base_uri": "https://localhost:8080/"
        },
        "id": "6IPBx-FOnMFO",
        "outputId": "0e6a9c7b-1c04-45af-8b87-1d4112583311"
      },
      "execution_count": null,
      "outputs": [
        {
          "output_type": "stream",
          "name": "stdout",
          "text": [
            "\\ 사용: 아무 계획이 없어서 완벽한 plan 우연히 찾아낸 secret place\n",
            "\n",
            "\"\"\" \"\"\"사용:   잊지마 넌 흐린 어둠 사이 왼손으로 그린 별 하나\n",
            "보이니 그 유일함이 얼마나 아름다운지 말야 \n"
          ]
        }
      ]
    },
    {
      "cell_type": "code",
      "source": [
        "# 문자열 연산을 통한 생성\n",
        "print(\"덧셈(+) 사용: \", \"py\" + \"thon\")  # 덧셈\n",
        "print(\"곱셈(*) 사용: \", \"py\" * 3) # 곱셈"
      ],
      "metadata": {
        "colab": {
          "base_uri": "https://localhost:8080/"
        },
        "id": "DRf7OiCGnIGo",
        "outputId": "df53e4fe-4828-4814-9d6d-99dc1f047b11"
      },
      "execution_count": null,
      "outputs": [
        {
          "output_type": "stream",
          "name": "stdout",
          "text": [
            "덧셈(+) 사용:  python\n",
            "곱셈(*) 사용:  pypypy\n"
          ]
        }
      ]
    },
    {
      "cell_type": "markdown",
      "source": [
        "#### 인덱싱 및 슬라이싱"
      ],
      "metadata": {
        "id": "qWTv4ffkoIWw"
      }
    },
    {
      "cell_type": "code",
      "source": [
        "# 문자열 인덱싱\n",
        "print(\"python의 0번째: \", 'python'[0])\n",
        "print(\"python의 5번째: \", 'python'[5])\n",
        "print(\"python의 -1번째: \", 'python'[-1])\n",
        "print(\"python의 -3번째: \", 'python'[-3])"
      ],
      "metadata": {
        "colab": {
          "base_uri": "https://localhost:8080/"
        },
        "id": "CP2gecMXoD6W",
        "outputId": "64fe827f-988d-45ab-bf20-16b836589d90"
      },
      "execution_count": null,
      "outputs": [
        {
          "output_type": "stream",
          "name": "stdout",
          "text": [
            "python의 0번째:  p\n",
            "python의 5번째:  n\n",
            "python의 -1번째:  n\n",
            "python의 -3번째:  h\n"
          ]
        }
      ]
    },
    {
      "cell_type": "code",
      "source": [
        "# 문자열 슬라이싱\n",
        "# [시작:끝]에서 끝 번호는 포함하지 않음\n",
        "print(\"python 문자열 슬라이싱\")\n",
        "print()\n",
        "\n",
        "print(\"[1:4]는 1~3: \", 'python'[1:4]) # 1~3까지 추출, 4번 제외\n",
        "print(\"[1:]는 1~5: \", 'python'[1:]) # 1부터 끝까지 추출\n",
        "print(\"[:3]는 0~2: \", 'python'[:3]) # 0~2번까지 추출, 3번의 제외\n",
        "print()\n",
        "\n",
        "print(\"[0:6:2]는 0~5, +2: \", 'python'[0:6:2]) # 0~5까지 2씩 증가하여 추출\n",
        "print(\"[0::2]는 0~5, +2: \", 'python'[0::2]) # 0~5까지 2씩 증가하여 추출\n",
        "print()\n",
        "\n",
        "print(\"[::-1]는 역순: \", 'python'[::-1])  # 5~0까지 추출\n",
        "print(\"[:0:-1]는 맨 앞 제외: \", 'python'[:0:-1])  # 5~1까지 추출, 0번 제외\n",
        "print(\"[0::-1]는 맨 앞만 추출: \", 'python'[0::-1])  # 0번만 추출"
      ],
      "metadata": {
        "colab": {
          "base_uri": "https://localhost:8080/"
        },
        "id": "nx_b2NovoUxV",
        "outputId": "559d9365-b8ad-44ef-a476-382b391b5bb3"
      },
      "execution_count": null,
      "outputs": [
        {
          "output_type": "stream",
          "name": "stdout",
          "text": [
            "python 문자열 슬라이싱\n",
            "\n",
            "[1:4]는 1~3:  yth\n",
            "[1:]는 1~5:  ython\n",
            "[:3]는 0~2:  pyt\n",
            "\n",
            "[0:6:2]는 0~5, +2:  pto\n",
            "[0::2]는 0~5, +2:  pto\n",
            "\n",
            "[::-1]는 역순:  nohtyp\n",
            "[:0:-1]는 맨 앞 제외:  nohty\n",
            "[0::-1]는 맨 앞만 추출:  p\n"
          ]
        }
      ]
    },
    {
      "cell_type": "code",
      "source": [
        "# 연습문제\n",
        "# Q1. 문자열 \"210101-1234567\"을 인덱싱하여 성별을 나타내는 숫자를 출력하시오.\n",
        "str1 = \"210101-1234567\"\n",
        "sex = str1[7]\n",
        "print(\"성별을 나타내는 숫자: \", sex)\n",
        "\n",
        "# Q2 문자열 \"20210101Sunny\"을 슬라이싱하여 날짜는 date 변수에 날씨는 weather 변수에 저장 후 출력하시오.\n",
        "str2 = \"20210101Sunny\"\n",
        "date = str2[:8]\n",
        "weather = str2[8:]\n",
        "print(\"날짜: \", date)\n",
        "print(\"날씨: \", weather)"
      ],
      "metadata": {
        "colab": {
          "base_uri": "https://localhost:8080/"
        },
        "id": "aSxliZz1pnuU",
        "outputId": "77ef0c73-f35b-4978-cf87-6c43f9ccc075"
      },
      "execution_count": null,
      "outputs": [
        {
          "output_type": "stream",
          "name": "stdout",
          "text": [
            "성별을 나타내는 숫자:  1\n",
            "날짜:  20210101\n",
            "날씨:  Sunny\n"
          ]
        }
      ]
    },
    {
      "cell_type": "markdown",
      "source": [
        "#### 문자열 포맷핑"
      ],
      "metadata": {
        "id": "UYxyHhOoqh3G"
      }
    },
    {
      "cell_type": "code",
      "source": [
        "# 방법1: % 이용\n",
        "# %s 문자열, %d 정수, %f 부동소수, %c 문자 1개\n",
        "name = \"장미\"\n",
        "age = 27 \n",
        "\n",
        "print(\"%s name은 %d age살: \", \"%s은 %d살\" %(name, age))\n",
        "print(\"%s name은 %s age살: \", \"%s은 %s살\" %(name, age))"
      ],
      "metadata": {
        "colab": {
          "base_uri": "https://localhost:8080/"
        },
        "id": "ak5LmyR9qYoS",
        "outputId": "d7c6ec8b-48d1-4eb1-98ac-939c12e50080"
      },
      "execution_count": null,
      "outputs": [
        {
          "output_type": "stream",
          "name": "stdout",
          "text": [
            "%s name은 %d age살:  장미은 27살\n",
            "%s name은 %s age살:  장미은 27살\n"
          ]
        }
      ]
    },
    {
      "cell_type": "code",
      "source": [
        "# 방법2: .format 이용\n",
        "name = \"장미\"\n",
        "age = 27 \n",
        "\n",
        "print(\"{name}은 {age}살: \", \"{}은 {}살\".format(name, age)) # 순서에 맞게 변수 값이 입력됨\n",
        "print(\"{1 age}살 {0 name}: \", \"{1}살 {0}\".format(name, age))  # 번호를 이용하여 변수값 순서 변경 가능"
      ],
      "metadata": {
        "colab": {
          "base_uri": "https://localhost:8080/"
        },
        "id": "-JPBs0aArMwg",
        "outputId": "5f808afd-69a0-4e57-e137-83ce01f9bcb7"
      },
      "execution_count": null,
      "outputs": [
        {
          "output_type": "stream",
          "name": "stdout",
          "text": [
            "{name}은 {age}살:  장미은 27살\n",
            "{1 age}살 {0 name}:  27살 장미\n"
          ]
        }
      ]
    },
    {
      "cell_type": "code",
      "source": [
        "# 방법3: f\" \" 이용\n",
        "# 변수의 연산이 가능함\n",
        "name = \"장미\"\n",
        "age = 27 \n",
        "\n",
        "print(\"f{name}은 {age}살 {2023-age+1}년생: \", f\"{name}은 {age}살 {2023-age+1}년생\") # 변수와 스칼라의 연산 가능\n",
        "print(\"f{name} 이름의 길이는 {len(name)}: \", f\"{name} 이름의 길이는 {len(name)}\") # 변수에 함수 연산 가능"
      ],
      "metadata": {
        "colab": {
          "base_uri": "https://localhost:8080/"
        },
        "id": "_748pdwyrtxL",
        "outputId": "e54b8d7d-6ca4-465d-c085-cbec7f6c3a9f"
      },
      "execution_count": null,
      "outputs": [
        {
          "output_type": "stream",
          "name": "stdout",
          "text": [
            "f{name}은 {age}살 {2023-age}년생:  장미은 27살 1997년생\n",
            "f{name} 이름의 길이는 {len(name)}:  장미 이름의 길이는 2\n"
          ]
        }
      ]
    },
    {
      "cell_type": "markdown",
      "source": [
        "#### 문자열 함수"
      ],
      "metadata": {
        "id": "3BR78KW5sdYh"
      }
    },
    {
      "cell_type": "code",
      "source": [
        "# 문자열 함수1: len, join, split, strip\n",
        "\n",
        "# len: 문자열 길이\n",
        "print(\"len: \", len(\"장미\"))\n",
        "\n",
        "# join: 문다열 합치기\n",
        "a = [\"python\", \"sql\"]\n",
        "print(\"join: \", \" \".join(a))\n",
        "\n",
        "# split: 문자열 분리하기\n",
        "print(\"split: \", \"python sql\".split(\" \"))\n",
        "\n",
        "# strip: 문자열 앞/뒤 공백 제거\n",
        "print(\"before: \", [\" abc def \"], \"->\", \"strip: \", [\" abc def \".strip()])"
      ],
      "metadata": {
        "colab": {
          "base_uri": "https://localhost:8080/"
        },
        "id": "4joBZbN2sXmx",
        "outputId": "79765a5c-2054-44ba-e804-c5cd7d699b57"
      },
      "execution_count": null,
      "outputs": [
        {
          "output_type": "stream",
          "name": "stdout",
          "text": [
            "len:  2\n",
            "join:  python sql\n",
            "split:  ['python', 'sql']\n",
            "before:  [' abc def '] -> strip:  ['abc def']\n"
          ]
        }
      ]
    },
    {
      "cell_type": "code",
      "source": [
        "# 문자열 함수2: isalnum, isalpha, isdecimal, isspace, istitle\n",
        "\n",
        "# isalnum: 알파벳, 숫자 여부\n",
        "print(\"장미\".isalnum())\n",
        "\n",
        "# isalpha: 알파벳 여부\n",
        "print(\"장미\".isalpha())\n",
        "\n",
        "# isdecimal: 숫자 여부\n",
        "print(\"1234\".isdecimal())\n",
        "\n",
        "# isspace: space, tab, enter 여부\n",
        "print(\" \".isspace())\n",
        "\n",
        "# istitle: 모든 단어의 첫 글자만 대문자 여부\n",
        "print(\"Aaa\".istitle())\n",
        "print(\"aaa\".istitle())\n",
        "print(\"Aaa aaa\".istitle())\n",
        "print(\"Aaa Bbb\".istitle())"
      ],
      "metadata": {
        "colab": {
          "base_uri": "https://localhost:8080/"
        },
        "id": "VNuZ6lGVtD-C",
        "outputId": "eb60fa4f-528a-4e09-b07c-7897074a06bc"
      },
      "execution_count": null,
      "outputs": [
        {
          "output_type": "stream",
          "name": "stdout",
          "text": [
            "True\n",
            "True\n",
            "True\n",
            "True\n",
            "True\n",
            "False\n",
            "False\n",
            "True\n"
          ]
        }
      ]
    },
    {
      "cell_type": "code",
      "source": [
        "# 문자열 함수3: index, startswith, endswith\n",
        "\n",
        "# index(값): 해당 값이 몇 번째 인덱스에 있는가? 인덱스 값 출력\n",
        "print(\"장미\".index(\"미\"))\n",
        "\n",
        "# index(값, 인덱스번호): n번째 위치에서 값1을 찾아라\n",
        "print(\"장미파이썬\".index(\"이\", 1))\n",
        "\n",
        "# startswith(값): 값으로 시작하는가?\n",
        "# 하나의 string으로 인지함\n",
        "print(\"장미 김미\".startswith(\"장\"))\n",
        "print(\"김미 장미\".startswith(\"장\"))\n",
        "\n",
        "# endswith(값): 값으로 끝나는가?\n",
        "print(\"장미 김미\".endswith(\"미\"))\n",
        "print(\"장미 김어\".endswith(\"미\"))"
      ],
      "metadata": {
        "colab": {
          "base_uri": "https://localhost:8080/"
        },
        "id": "6JqdUrkPtsi3",
        "outputId": "b883e154-10a6-4532-c5ee-8d4ee4b77468"
      },
      "execution_count": null,
      "outputs": [
        {
          "output_type": "stream",
          "name": "stdout",
          "text": [
            "1\n",
            "3\n",
            "True\n",
            "False\n",
            "True\n",
            "False\n"
          ]
        }
      ]
    },
    {
      "cell_type": "markdown",
      "source": [
        "### 리스트(List)"
      ],
      "metadata": {
        "id": "pOvasXcdRw2V"
      }
    },
    {
      "cell_type": "markdown",
      "source": [
        "\n",
        "\n",
        "*   점검하거나 기억하기 쉽도록 특별한 순서로 적어놓은 것\n",
        "*   데이터들을 잘 관리할 수 있도록 순서를 정해서 관리하는 데이터 타입\n",
        "\n"
      ],
      "metadata": {
        "id": "R15cfEfZSJTB"
      }
    },
    {
      "cell_type": "code",
      "source": [
        "# 리스트 생성\n",
        "a = list()\n",
        "a = []\n",
        "b = [1, 2, 3]\n",
        "c = ['Life', 'ls', 'too', 'short']\n",
        "d = [1, 2, 'Life', 'is']\n",
        "e = [1, 2, ['Life', 'is']]"
      ],
      "metadata": {
        "id": "b3moJBlAu1DH"
      },
      "execution_count": null,
      "outputs": []
    },
    {
      "cell_type": "markdown",
      "source": [
        "#### 리스트의 인덱싱"
      ],
      "metadata": {
        "id": "ubmI165RS7Wp"
      }
    },
    {
      "cell_type": "code",
      "source": [
        "a = [1, 2, 3]\n",
        "a"
      ],
      "metadata": {
        "colab": {
          "base_uri": "https://localhost:8080/"
        },
        "id": "-8p8O-nHS0mp",
        "outputId": "78002da8-3784-490e-c6fd-161b0682b8b3"
      },
      "execution_count": null,
      "outputs": [
        {
          "output_type": "execute_result",
          "data": {
            "text/plain": [
              "[1, 2, 3]"
            ]
          },
          "metadata": {},
          "execution_count": 2
        }
      ]
    },
    {
      "cell_type": "code",
      "source": [
        "print(\"a[0]: \", a[0])\n",
        "print(\"a[0] + a[2]: \", a[0] + a[2])\n",
        "print(\"a[-1]: \", a[-1])"
      ],
      "metadata": {
        "colab": {
          "base_uri": "https://localhost:8080/"
        },
        "id": "0UaqnPPNTB_3",
        "outputId": "a25db9bd-d0e3-4063-c64f-a859105bcf2f"
      },
      "execution_count": null,
      "outputs": [
        {
          "output_type": "stream",
          "name": "stdout",
          "text": [
            "a[0]:  1\n",
            "a[0] + a[2]:  4\n",
            "a[-1]:  3\n"
          ]
        }
      ]
    },
    {
      "cell_type": "code",
      "source": [
        "a = [1, 2, 3, ['a', 'b', 'c']]\n",
        "\n",
        "print(\"a[0]: \", a[0])\n",
        "print(\"a[-1]: \", a[-1])\n",
        "print(\"a[3]: \", a[3])\n",
        "print(\"a[-1][0]: \", a[-1][0])\n",
        "print(\"a[-1][1]: \", a[-1][1])\n",
        "print(\"a[-1][2]: \", a[-1][2])"
      ],
      "metadata": {
        "colab": {
          "base_uri": "https://localhost:8080/"
        },
        "id": "IMxcHOibTmaM",
        "outputId": "fcbbf6d3-c43d-41e8-d3d5-ead978e834a6"
      },
      "execution_count": null,
      "outputs": [
        {
          "output_type": "stream",
          "name": "stdout",
          "text": [
            "a[0]:  1\n",
            "a[-1]:  ['a', 'b', 'c']\n",
            "a[3]:  ['a', 'b', 'c']\n",
            "a[-1][0]:  a\n",
            "a[-1][1]:  b\n",
            "a[-1][2]:  c\n"
          ]
        }
      ]
    },
    {
      "cell_type": "markdown",
      "source": [
        "#### 리시트의 슬라이싱"
      ],
      "metadata": {
        "id": "IolnfdE0UPIP"
      }
    },
    {
      "cell_type": "code",
      "source": [
        "# 리스트 슬라이싱\n",
        "# [시작:끝]에서 끝 번호는 포함하지 않음\n",
        "print(\"python 리스트 슬라이싱\")\n",
        "print()\n",
        "\n",
        "a = [1, 2, 3, 4, 5, 6]\n",
        "\n",
        "print(\"[1:4]는 1~3: \", a[1:4]) # 1~3까지 추출, 4번 제외\n",
        "print(\"[1:]는 1~5: \", a[1:]) # 1부터 끝까지 추출\n",
        "print(\"[:3]는 0~2: \", a[:3]) # 0~2번까지 추출, 3번의 제외\n",
        "print()\n",
        "\n",
        "print(\"[0:6:2]는 0~5, +2: \", a[0:6:2]) # 0~5까지 2씩 증가하여 추출\n",
        "print(\"[0::2]는 0~5, +2: \", a[0::2]) # 0~5까지 2씩 증가하여 추출\n",
        "print()\n",
        "\n",
        "print(\"[::-1]는 역순: \", a[::-1])  # 5~0까지 추출\n",
        "print(\"[:0:-1]는 맨 앞 제외: \", a[:0:-1])  # 5~1까지 추출, 0번 제외\n",
        "print(\"[0::-1]는 맨 앞만 추출: \", a[0::-1])  # 0번만 추출"
      ],
      "metadata": {
        "colab": {
          "base_uri": "https://localhost:8080/"
        },
        "id": "-zNWn_JAT5Du",
        "outputId": "4acadd08-7c48-4058-fdad-19a4635904cd"
      },
      "execution_count": null,
      "outputs": [
        {
          "output_type": "stream",
          "name": "stdout",
          "text": [
            "python 리스트 슬라이싱\n",
            "\n",
            "[1:4]는 1~3:  [2, 3, 4]\n",
            "[1:]는 1~5:  [2, 3, 4, 5, 6]\n",
            "[:3]는 0~2:  [1, 2, 3]\n",
            "\n",
            "[0:6:2]는 0~5, +2:  [1, 3, 5]\n",
            "[0::2]는 0~5, +2:  [1, 3, 5]\n",
            "\n",
            "[::-1]는 역순:  [6, 5, 4, 3, 2, 1]\n",
            "[:0:-1]는 맨 앞 제외:  [6, 5, 4, 3, 2]\n",
            "[0::-1]는 맨 앞만 추출:  [1]\n"
          ]
        }
      ]
    },
    {
      "cell_type": "markdown",
      "source": [
        "#### 리스트 연산하기"
      ],
      "metadata": {
        "id": "PIrDa-u5VNeU"
      }
    },
    {
      "cell_type": "code",
      "source": [
        "a = [1, 2, 3]\n",
        "b = [4, 5, 6]\n",
        "\n",
        "print(\"a + b: \", a+b) # 리스트 더하기\n",
        "print(\"a * 3: \", a*3) # 리스트 반복하기\n",
        "\n",
        "# print(\"a[2] + \\\"hi\\\"\", a[2]+\"hi\") # ERROR 발생, 같은 형이 아니라 형 오류 발생\n",
        "print(\"a[2] + \\\"hi\\\": \", str(a[2])+\"hi\")"
      ],
      "metadata": {
        "colab": {
          "base_uri": "https://localhost:8080/"
        },
        "id": "Lpe8WMI8Uav9",
        "outputId": "bfdfbadc-dafb-47aa-b080-6904d2f903df"
      },
      "execution_count": null,
      "outputs": [
        {
          "output_type": "stream",
          "name": "stdout",
          "text": [
            "a + b:  [1, 2, 3, 4, 5, 6]\n",
            "a * 3:  [1, 2, 3, 1, 2, 3, 1, 2, 3]\n",
            "a[2] + \"hi\":  3hi\n"
          ]
        }
      ]
    },
    {
      "cell_type": "markdown",
      "source": [
        "#### 리스트 길이 구하기"
      ],
      "metadata": {
        "id": "bPiCzrHEVguV"
      }
    },
    {
      "cell_type": "code",
      "source": [
        "a = [1, 2, 3]\n",
        "print(\"a의 길이는: \", len(a))"
      ],
      "metadata": {
        "colab": {
          "base_uri": "https://localhost:8080/"
        },
        "id": "ustDOEYDVfF4",
        "outputId": "70dc8806-ee27-434f-e693-bc896b136bfe"
      },
      "execution_count": null,
      "outputs": [
        {
          "output_type": "stream",
          "name": "stdout",
          "text": [
            "a의 길이는:  3\n"
          ]
        }
      ]
    },
    {
      "cell_type": "markdown",
      "source": [
        "#### 리스트의 수정과 삭제"
      ],
      "metadata": {
        "id": "5LJWioizWApi"
      }
    },
    {
      "cell_type": "code",
      "source": [
        "# 리스트에서 값 수정하기\n",
        "a = [1, 2, 3]\n",
        "a[2] = 4\n",
        "print(\"a: \", a)"
      ],
      "metadata": {
        "colab": {
          "base_uri": "https://localhost:8080/"
        },
        "id": "FigJMpqUVlr1",
        "outputId": "76b9bb39-35cb-4af5-b52e-ed1c933fefbf"
      },
      "execution_count": null,
      "outputs": [
        {
          "output_type": "stream",
          "name": "stdout",
          "text": [
            "a:  [1, 2, 4]\n"
          ]
        }
      ]
    },
    {
      "cell_type": "code",
      "source": [
        "# del 함수 사용해 리스트 요소 삭제하기\n",
        "a = [1, 2, 3]\n",
        "del a[1]\n",
        "print(\"a: \", a)\n",
        "\n",
        "b = [1, 2, 3, 4, 5]\n",
        "del b[:3]\n",
        "print(\"b: \", b)"
      ],
      "metadata": {
        "colab": {
          "base_uri": "https://localhost:8080/"
        },
        "id": "fAJ-5D4JWIiC",
        "outputId": "cb101639-74bd-4f46-f7d5-a2026ce23e3f"
      },
      "execution_count": null,
      "outputs": [
        {
          "output_type": "stream",
          "name": "stdout",
          "text": [
            "a:  [1, 3]\n",
            "b:  [4, 5]\n"
          ]
        }
      ]
    },
    {
      "cell_type": "markdown",
      "source": [
        "#### 리스트 관련 함수들"
      ],
      "metadata": {
        "id": "EIuhPo9vWZOn"
      }
    },
    {
      "cell_type": "code",
      "source": [
        "# 리스트에 요소 추가(append)\n",
        "a = [1, 2, 3]\n",
        "a.append(4)\n",
        "print(f\"a: {a}\")\n",
        "\n",
        "a.append([5, 6])\n",
        "print(f\"a: {a}\")"
      ],
      "metadata": {
        "colab": {
          "base_uri": "https://localhost:8080/"
        },
        "id": "r6cMDW-dWN-L",
        "outputId": "b6b4d6d9-9351-490a-f0a7-d1217c666f06"
      },
      "execution_count": null,
      "outputs": [
        {
          "output_type": "stream",
          "name": "stdout",
          "text": [
            "a: [1, 2, 3, 4]\n",
            "a: [1, 2, 3, 4, [5, 6]]\n"
          ]
        }
      ]
    },
    {
      "cell_type": "code",
      "source": [
        "# 리스트 정렬(sort)\n",
        "a = [1, 4, 3, 2]\n",
        "a.sort()\n",
        "print(\"정렬된 리스트 a: \", a)\n",
        "\n",
        "b = ['a', 'b', 'c']\n",
        "b.sort()\n",
        "print(\"정렬된 리스트 b: \", b)"
      ],
      "metadata": {
        "colab": {
          "base_uri": "https://localhost:8080/"
        },
        "id": "K_m5OGOTWqEr",
        "outputId": "aa365dad-366b-4bf1-9bbd-9bad6efc4eee"
      },
      "execution_count": null,
      "outputs": [
        {
          "output_type": "stream",
          "name": "stdout",
          "text": [
            "정렬된 리스트 a:  [1, 2, 3, 4]\n",
            "정렬된 리스트 b:  ['a', 'b', 'c']\n"
          ]
        }
      ]
    },
    {
      "cell_type": "code",
      "source": [
        "# 리스트 뒤집기(reverse)\n",
        "a = ['a', 'c', 'b']\n",
        "a.reverse()\n",
        "print(\"뒤집은 리스트 a: \", a)"
      ],
      "metadata": {
        "colab": {
          "base_uri": "https://localhost:8080/"
        },
        "id": "gX-225wTW8PA",
        "outputId": "5dd77010-65f7-41cd-aab4-cd8547225438"
      },
      "execution_count": null,
      "outputs": [
        {
          "output_type": "stream",
          "name": "stdout",
          "text": [
            "뒤집은 리스트 a:  ['b', 'c', 'a']\n"
          ]
        }
      ]
    },
    {
      "cell_type": "code",
      "source": [
        "# 리스트 인덱스 반환(index)\n",
        "a = [1, 2, 3]\n",
        "print(\"a의 값이 3인 인덱스 값 반환: \", a.index(3))\n",
        "print(\"a의 값이 1인 인덱스 값 반환: \", a.index(1))\n",
        "# print(\"a의 값이 0인 인덱스 값 반환: \", a.index(0)) # 값이 없는 인덱스를 찾으면 에러 발생"
      ],
      "metadata": {
        "colab": {
          "base_uri": "https://localhost:8080/"
        },
        "id": "mVoLqndVXYeW",
        "outputId": "41c227e4-0674-46cd-b87e-0d02bf12851e"
      },
      "execution_count": null,
      "outputs": [
        {
          "output_type": "stream",
          "name": "stdout",
          "text": [
            "a의 값이 3인 인덱스 값 반환:  2\n",
            "a의 값이 1인 인덱스 값 반환:  0\n"
          ]
        }
      ]
    },
    {
      "cell_type": "code",
      "source": [
        "# 리스트에 요소 삽입(insert)\n",
        "a = [1, 2, 3]\n",
        "a.insert(0,4) # 0번째 위치에 4를 삽입\n",
        "print(\"0번째 위치에 4를 삽입한 리스트 a: \", a)\n",
        "\n",
        "a.insert(3, 5)  # 3번째 위치에 5 삽입\n",
        "print(\"3번째 위치에 5를 삽입한 리스트 a: \", a)"
      ],
      "metadata": {
        "colab": {
          "base_uri": "https://localhost:8080/"
        },
        "id": "-97dpIRHXb5f",
        "outputId": "45ac20c3-a2e0-465a-92c9-19e9357530bd"
      },
      "execution_count": null,
      "outputs": [
        {
          "output_type": "stream",
          "name": "stdout",
          "text": [
            "0번째 위치에 4를 삽입한 리스트 a:  [4, 1, 2, 3]\n",
            "3번째 위치에 5를 삽입한 리스트 a:  [4, 1, 2, 5, 3]\n"
          ]
        }
      ]
    },
    {
      "cell_type": "code",
      "source": [
        "# 리스트 요소 제거(remove)\n",
        "# remove(x): 리스트에서 첫 번째로 나오는 x 삭제\n",
        "a = [1, 2, 3, 1, 2, 3]\n",
        "a.remove(3) \n",
        "print(\"처음 나온 3을 삭제한 리스트 a: \",a)"
      ],
      "metadata": {
        "colab": {
          "base_uri": "https://localhost:8080/"
        },
        "id": "uK32VnrgYD_9",
        "outputId": "bf7d4ad4-f261-4503-af73-33032936406c"
      },
      "execution_count": null,
      "outputs": [
        {
          "output_type": "stream",
          "name": "stdout",
          "text": [
            "처음 나온 3을 삭제한 리스트 a:  [1, 2, 1, 2, 3]\n"
          ]
        }
      ]
    },
    {
      "cell_type": "code",
      "source": [
        "# 리스트 요소 끄집어내기(pop)\n",
        "a = [1, 2, 3]\n",
        "\n",
        "print(\"a.pop(): \", a.pop()) # 맨 위에 값을 리턴 후 삭제\n",
        "print(\"a: \", a)\n",
        "\n",
        "b = [2, 3, 4, 5]\n",
        "print(\"b.pop(1): \", b.pop(1)) # b[1]의 값을 끄집어내어 리턴\n",
        "print(\"b: \", b)"
      ],
      "metadata": {
        "colab": {
          "base_uri": "https://localhost:8080/"
        },
        "id": "6Cv0FnYcYd2-",
        "outputId": "c53389bd-0de2-4b6d-c768-d18700372569"
      },
      "execution_count": null,
      "outputs": [
        {
          "output_type": "stream",
          "name": "stdout",
          "text": [
            "a.pop():  3\n",
            "a:  [1, 2]\n",
            "b.pop(1):  3\n",
            "b:  [2, 4, 5]\n"
          ]
        }
      ]
    },
    {
      "cell_type": "code",
      "source": [
        "# 리스트에 포함된 요소 x의 개수 세기(count)\n",
        "a = [1, 2, 3, 1]\n",
        "print(\"a 안에 1의 개수: \", a.count(1))"
      ],
      "metadata": {
        "colab": {
          "base_uri": "https://localhost:8080/"
        },
        "id": "QmmxIMi4Ylwj",
        "outputId": "f482c050-afaf-47bb-deff-f78bd5cae24b"
      },
      "execution_count": null,
      "outputs": [
        {
          "output_type": "stream",
          "name": "stdout",
          "text": [
            "a 안에 1의 개수:  2\n"
          ]
        }
      ]
    },
    {
      "cell_type": "code",
      "source": [
        "# 리스트 확장(extend)\n",
        "a = [1, 2, 3]\n",
        "a.extend([4, 5])  # extend(x)의 x는 리스트만 올 수 있음\n",
        "print(\"확장된 리스트 a: \", a)\n",
        "b = [6, 7]\n",
        "a.extend(b)\n",
        "print(\"확장된 리스트 a: \", a)"
      ],
      "metadata": {
        "colab": {
          "base_uri": "https://localhost:8080/"
        },
        "id": "MX-sJtc7ZLan",
        "outputId": "f5499180-f16a-4a93-9684-b4489aa42126"
      },
      "execution_count": null,
      "outputs": [
        {
          "output_type": "stream",
          "name": "stdout",
          "text": [
            "확장된 리스트 a:  [1, 2, 3, 4, 5]\n",
            "확장된 리스트 a:  [1, 2, 3, 4, 5, 6, 7]\n"
          ]
        }
      ]
    },
    {
      "cell_type": "markdown",
      "source": [
        "### 튜플(Tuple)"
      ],
      "metadata": {
        "id": "kOskBbFzZsnn"
      }
    },
    {
      "cell_type": "markdown",
      "source": [
        "\n",
        "\n",
        "*   셀 수 있는 수량의 순서있는 열거\n",
        "*   튜플은 요소의 값을 바꿀 수 없음\n",
        "*   중복 허용\n"
      ],
      "metadata": {
        "id": "3PqgKRVPZ4vQ"
      }
    },
    {
      "cell_type": "code",
      "source": [
        "# 튜플 생성\n",
        "t1 = ()\n",
        "t2 = (1,) # 하나 생성 시 ,를 반드시 써 줘야함\n",
        "t3 = (1, 2, 3)\n",
        "t4 = 1, 2, 3\n",
        "t5 = ('a', 'b', ('ab', 'cd'))"
      ],
      "metadata": {
        "id": "LsurlFnuZjbK"
      },
      "execution_count": null,
      "outputs": []
    },
    {
      "cell_type": "code",
      "source": [
        "# 튜플 요솟값 삭제 > 불가능!\n",
        "t1 = (1, 2, 'a', 'b')\n",
        "# del t1[0] # 튜플 요솟값 삭제 불가능\n",
        "# t1[0] = 'c' # 튜플 요솟값 수정 불가능"
      ],
      "metadata": {
        "id": "Px2ICIVsakUl"
      },
      "execution_count": null,
      "outputs": []
    },
    {
      "cell_type": "markdown",
      "source": [
        "#### 튜플 인덱싱"
      ],
      "metadata": {
        "id": "yAwqW7kVa6WL"
      }
    },
    {
      "cell_type": "code",
      "source": [
        "# 튜플 인덱싱\n",
        "a = (1, 2, 3, 4, 5, 6)\n",
        "print(\"a[0]: \", a[0])\n",
        "print(\"a[0] + a[2]: \", a[0] + a[2])\n",
        "print(\"a[-1]: \", a[-1])"
      ],
      "metadata": {
        "colab": {
          "base_uri": "https://localhost:8080/"
        },
        "id": "fGTktpM-bEtj",
        "outputId": "a6bc9413-a211-4871-f35d-22558e0c6e42"
      },
      "execution_count": null,
      "outputs": [
        {
          "output_type": "stream",
          "name": "stdout",
          "text": [
            "a[0]:  1\n",
            "a[0] + a[2]:  4\n",
            "a[-1]:  6\n"
          ]
        }
      ]
    },
    {
      "cell_type": "markdown",
      "source": [
        "#### 튜플 슬라이싱"
      ],
      "metadata": {
        "id": "edOqEdcXbTMl"
      }
    },
    {
      "cell_type": "code",
      "source": [
        "# 튜플 슬라이싱\n",
        "# [시작:끝]에서 끝 번호는 포함하지 않음\n",
        "print(\"python 튜플 슬라이싱\")\n",
        "print()\n",
        "\n",
        "a = (1, 2, \"b\", 4, 5, \"a\")\n",
        "\n",
        "print(\"[1:4]는 1~3: \", a[1:4]) # 1~3까지 추출, 4번 제외\n",
        "print(\"[1:]는 1~5: \", a[1:]) # 1부터 끝까지 추출\n",
        "print(\"[:3]는 0~2: \", a[:3]) # 0~2번까지 추출, 3번의 제외\n",
        "print()\n",
        "\n",
        "print(\"[0:6:2]는 0~5, +2: \", a[0:6:2]) # 0~5까지 2씩 증가하여 추출\n",
        "print(\"[0::2]는 0~5, +2: \", a[0::2]) # 0~5까지 2씩 증가하여 추출\n",
        "print()\n",
        "\n",
        "print(\"[::-1]는 역순: \", a[::-1])  # 5~0까지 추출\n",
        "print(\"[:0:-1]는 맨 앞 제외: \", a[:0:-1])  # 5~1까지 추출, 0번 제외\n",
        "print(\"[0::-1]는 맨 앞만 추출: \", a[0::-1])  # 0번만 추출"
      ],
      "metadata": {
        "colab": {
          "base_uri": "https://localhost:8080/"
        },
        "id": "wNh8ng0Aaqrq",
        "outputId": "ec9a8eb4-9286-4bc8-f409-28f6aa4d9f7f"
      },
      "execution_count": null,
      "outputs": [
        {
          "output_type": "stream",
          "name": "stdout",
          "text": [
            "python 튜플 슬라이싱\n",
            "\n",
            "[1:4]는 1~3:  (2, 'b', 4)\n",
            "[1:]는 1~5:  (2, 'b', 4, 5, 'a')\n",
            "[:3]는 0~2:  (1, 2, 'b')\n",
            "\n",
            "[0:6:2]는 0~5, +2:  (1, 'b', 5)\n",
            "[0::2]는 0~5, +2:  (1, 'b', 5)\n",
            "\n",
            "[::-1]는 역순:  ('a', 5, 4, 'b', 2, 1)\n",
            "[:0:-1]는 맨 앞 제외:  ('a', 5, 4, 'b', 2)\n",
            "[0::-1]는 맨 앞만 추출:  (1,)\n"
          ]
        }
      ]
    },
    {
      "cell_type": "markdown",
      "source": [
        "#### 튜플 연산"
      ],
      "metadata": {
        "id": "Ar7muWwWbcH7"
      }
    },
    {
      "cell_type": "code",
      "source": [
        "# 튜플 더하기\n",
        "t1 = (1, 2, 'a', 'b')\n",
        "t2 = (3, 4)\n",
        "t3 = t1 + t2\n",
        "print(\"t1 + t2: \", t3)"
      ],
      "metadata": {
        "colab": {
          "base_uri": "https://localhost:8080/"
        },
        "id": "X9Min6mpbY5d",
        "outputId": "c321fb69-0ab5-4ec5-b901-301d2d234493"
      },
      "execution_count": null,
      "outputs": [
        {
          "output_type": "stream",
          "name": "stdout",
          "text": [
            "t1 + t2:  (1, 2, 'a', 'b', 3, 4)\n"
          ]
        }
      ]
    },
    {
      "cell_type": "code",
      "source": [
        "# 튜플 곱하기\n",
        "t1 = (3, 4)\n",
        "t2 = t1 * 3\n",
        "print(\"t1 * 3: \", t2)"
      ],
      "metadata": {
        "colab": {
          "base_uri": "https://localhost:8080/"
        },
        "id": "WJx6aJClbsHH",
        "outputId": "5b5f6963-3eaa-4a18-d2f3-262750f6debd"
      },
      "execution_count": null,
      "outputs": [
        {
          "output_type": "stream",
          "name": "stdout",
          "text": [
            "t1 * 3:  (3, 4, 3, 4, 3, 4)\n"
          ]
        }
      ]
    },
    {
      "cell_type": "markdown",
      "source": [
        "#### 튜플 길이 구하기"
      ],
      "metadata": {
        "id": "K47LZQNPb3Wa"
      }
    },
    {
      "cell_type": "code",
      "source": [
        "# 튜플 길이 구하기\n",
        "t1 = (1, 2, 'a', 'b')\n",
        "print(\"t1의 길이: \", len(t1))"
      ],
      "metadata": {
        "colab": {
          "base_uri": "https://localhost:8080/"
        },
        "id": "qPVVW_Whb0HN",
        "outputId": "b6cf01af-9967-4b6e-c0ba-1e762eefa17b"
      },
      "execution_count": null,
      "outputs": [
        {
          "output_type": "stream",
          "name": "stdout",
          "text": [
            "t1의 길이:  4\n"
          ]
        }
      ]
    },
    {
      "cell_type": "markdown",
      "source": [
        "## 셋(Set)"
      ],
      "metadata": {
        "id": "45XdMFcDcMWN"
      }
    },
    {
      "cell_type": "markdown",
      "source": [
        "### 셋(Set)\n",
        "\n",
        "\n",
        "*   집합에 관련된 것을 처리하기 위해 만들어진 자료형\n",
        "*   중복을 허용하지 않음\n",
        "*   순서 없음 > 인덱싱으로 값을 얻을 수 없음\n",
        "*   인덱싱 접근을 윈하면 리스트 or 튜플로 변환 후 접근\n"
      ],
      "metadata": {
        "id": "rdhQ266DcP11"
      }
    },
    {
      "cell_type": "markdown",
      "source": [
        "#### 셋 생성"
      ],
      "metadata": {
        "id": "REQXbiOUcrCn"
      }
    },
    {
      "cell_type": "code",
      "source": [
        "# 셋 생성\n",
        "s1 = set([1, 2, 3])\n",
        "print(\"s1: \", s1)\n",
        "\n",
        "s2 = set(\"Hello\")\n",
        "print(\"s2: \", s2)"
      ],
      "metadata": {
        "colab": {
          "base_uri": "https://localhost:8080/"
        },
        "id": "67uGEEX1b_HZ",
        "outputId": "93ee1a93-e77b-4bba-a4eb-405f5bd77a43"
      },
      "execution_count": null,
      "outputs": [
        {
          "output_type": "stream",
          "name": "stdout",
          "text": [
            "s1:  {1, 2, 3}\n",
            "s2:  {'H', 'o', 'e', 'l'}\n"
          ]
        }
      ]
    },
    {
      "cell_type": "markdown",
      "source": [
        "#### 셋을 인덱스로 접근하는 방법"
      ],
      "metadata": {
        "id": "qlR953HjdJlU"
      }
    },
    {
      "cell_type": "code",
      "source": [
        "s1 = set([1, 2, 3])\n",
        "l1 = list(s1) # set을 list로 변환 \n",
        "print(\"리스트로 변환한 셋 l1[0]: \", l1[0])\n",
        "\n",
        "t1 = tuple(s1)\n",
        "print(\"튜플로 변환한 셋 t1[0]: \", t1[0])"
      ],
      "metadata": {
        "colab": {
          "base_uri": "https://localhost:8080/"
        },
        "id": "t2Wn-MKsdI0B",
        "outputId": "26b445cf-a2d2-4868-f97f-4f96fcf8dd2c"
      },
      "execution_count": null,
      "outputs": [
        {
          "output_type": "stream",
          "name": "stdout",
          "text": [
            "리스트로 변환한 셋 l1[0]:  1\n",
            "튜플로 변환한 셋 t1[0]:  1\n"
          ]
        }
      ]
    },
    {
      "cell_type": "markdown",
      "source": [
        "#### 교집합, 합집합, 차집합"
      ],
      "metadata": {
        "id": "USeNlekWduDE"
      }
    },
    {
      "cell_type": "code",
      "source": [
        "s1 = set([1, 2, 3, 4, 5, 6])\n",
        "s2 = set([4, 5, 6, 7, 8, 9])\n",
        "\n",
        "# 교집합\n",
        "print(\"s1과 s2의 교집합: \", s1 & s2)  # &\n",
        "print(\"s1과 s2의 교집합: \", s1.intersection(s2))  # set1.intersection(set2)\n",
        "\n",
        "# 합집합\n",
        "print(\"s1과 s2의 합집합: \", s1 | s2)  # |\n",
        "print(\"s1과 s2의 합집합: \", s1.union(s2)) # set1.union(set2)\n",
        "\n",
        "# 차집합\n",
        "print(\"s1과 s2의 차집합: \", s1 - s2) # -\n",
        "print(\"s1과 s2의 차집합: \", s1.difference(s2)) # set1.difference(set2)"
      ],
      "metadata": {
        "colab": {
          "base_uri": "https://localhost:8080/"
        },
        "id": "0n74IGAtdrsG",
        "outputId": "f72cbc12-f651-4d37-ebb2-29bd14b60021"
      },
      "execution_count": null,
      "outputs": [
        {
          "output_type": "stream",
          "name": "stdout",
          "text": [
            "s1과 s2의 교집합:  {4, 5, 6}\n",
            "s1과 s2의 교집합:  {4, 5, 6}\n",
            "s1과 s2의 합집합:  {1, 2, 3, 4, 5, 6, 7, 8, 9}\n",
            "s1과 s2의 합집합:  {1, 2, 3, 4, 5, 6, 7, 8, 9}\n",
            "s1과 s2의 차집합:  {1, 2, 3}\n",
            "s1과 s2의 차집합:  {1, 2, 3}\n"
          ]
        }
      ]
    },
    {
      "cell_type": "markdown",
      "source": [
        "#### 집합 자료형 함수\n",
        "\n"
      ],
      "metadata": {
        "id": "laKnx7d1e650"
      }
    },
    {
      "cell_type": "code",
      "source": [
        "# 값 1개 추가하기 (add)\n",
        "s1 = set([1, 2, 3])\n",
        "s1.add(4)\n",
        "print(\"s1: \", s1)"
      ],
      "metadata": {
        "colab": {
          "base_uri": "https://localhost:8080/"
        },
        "id": "UeK_Bn4BeYXz",
        "outputId": "6c8390ba-1f19-4b21-90fe-b1da6700ffd5"
      },
      "execution_count": null,
      "outputs": [
        {
          "output_type": "stream",
          "name": "stdout",
          "text": [
            "s1:  {1, 2, 3, 4}\n"
          ]
        }
      ]
    },
    {
      "cell_type": "code",
      "source": [
        "# 값 여러개 추가하기 (update)\n",
        "s1 = set([1, 2, 3])\n",
        "s1.update([4, 5, 6])\n",
        "print(\"s1: \", s1)"
      ],
      "metadata": {
        "colab": {
          "base_uri": "https://localhost:8080/"
        },
        "id": "aeTsdPPrfXr1",
        "outputId": "1d798b7d-4667-42f5-815b-56705c3eb664"
      },
      "execution_count": null,
      "outputs": [
        {
          "output_type": "stream",
          "name": "stdout",
          "text": [
            "s1:  {1, 2, 3, 4, 5, 6}\n"
          ]
        }
      ]
    },
    {
      "cell_type": "code",
      "source": [
        "# 특정 값 제거하기 (remove)\n",
        "s1 = set([1, 2, 3])\n",
        "s1.remove(2) # 제거하고 싶은 값\n",
        "print(\"2를 제거한 s1: \", s1)"
      ],
      "metadata": {
        "colab": {
          "base_uri": "https://localhost:8080/"
        },
        "id": "1DAWqfmzfgKD",
        "outputId": "7b5e2288-f093-4fbe-a13e-81b9afb25402"
      },
      "execution_count": null,
      "outputs": [
        {
          "output_type": "stream",
          "name": "stdout",
          "text": [
            "2를 제거한 s1:  {1, 3}\n"
          ]
        }
      ]
    },
    {
      "cell_type": "markdown",
      "source": [
        "## 매핑(Mapping)"
      ],
      "metadata": {
        "id": "BxcqjchQf13i"
      }
    },
    {
      "cell_type": "markdown",
      "source": [
        "### 사전 (Dictionary)\n",
        "\n",
        "\n",
        "*   사전형 데이터\n",
        "*   key, value로 구성\n",
        "\n"
      ],
      "metadata": {
        "id": "o8fJOKxqf4g3"
      }
    },
    {
      "cell_type": "markdown",
      "source": [
        "#### 딕셔너리 생성"
      ],
      "metadata": {
        "id": "eBPKJK81gQC1"
      }
    },
    {
      "cell_type": "code",
      "source": [
        "# 딕셔너리 생성 { 키1: 값1, 키2: 값2, ...}\n",
        "dic = {'name': 'mi', 'phone': '010-9999-1234', 'birth': '1114'}\n",
        "a = {1: 'hi'}\n",
        "b = {'a': [1, 2, 3]}"
      ],
      "metadata": {
        "id": "yBvrMcmNfthv"
      },
      "execution_count": null,
      "outputs": []
    },
    {
      "cell_type": "markdown",
      "source": [
        "#### 딕셔너리 쌍 추가, 삭제하기"
      ],
      "metadata": {
        "id": "pWW1MTQigp0F"
      }
    },
    {
      "cell_type": "code",
      "source": [
        "# 딕셔너리 쌍 추가하기\n",
        "a = {1: 'a'}\n",
        "a[2] = 'b'\n",
        "print('dictionary a: ', a)\n",
        "\n",
        "a['name'] = 'mi'\n",
        "print('dictionary a: ', a)\n",
        "\n",
        "a[3] = [1, 2, 3]\n",
        "print('dictionary a: ', a)"
      ],
      "metadata": {
        "colab": {
          "base_uri": "https://localhost:8080/"
        },
        "id": "xSJSRFBBgU_G",
        "outputId": "e15153e7-276d-4433-c1fe-fa7442c567e4"
      },
      "execution_count": null,
      "outputs": [
        {
          "output_type": "stream",
          "name": "stdout",
          "text": [
            "dictionary a:  {1: 'a', 2: 'b'}\n",
            "dictionary a:  {1: 'a', 2: 'b', 'name': 'mi'}\n",
            "dictionary a:  {1: 'a', 2: 'b', 'name': 'mi', 3: [1, 2, 3]}\n"
          ]
        }
      ]
    },
    {
      "cell_type": "code",
      "source": [
        "# 딕셔너리 요소 삭제하기\n",
        "del a[1]\n",
        "print(\"dictionary a: \", a)"
      ],
      "metadata": {
        "colab": {
          "base_uri": "https://localhost:8080/"
        },
        "id": "imP6oQ0QgtSl",
        "outputId": "560096ee-e84d-4b96-9fde-223153c0f161"
      },
      "execution_count": null,
      "outputs": [
        {
          "output_type": "stream",
          "name": "stdout",
          "text": [
            "dictionary a:  {2: 'b', 'name': 'mi', 3: [1, 2, 3]}\n"
          ]
        }
      ]
    },
    {
      "cell_type": "markdown",
      "source": [
        "#### Key를 사용해 Value 얻기"
      ],
      "metadata": {
        "id": "2fPaq91shQEn"
      }
    },
    {
      "cell_type": "code",
      "source": [
        "# Key를 사용해 Value 얻기\n",
        "# 딕셔너리명[key값]\n",
        "grade = {'mi': 100, 'pey': 90, 'julliet': 80}\n",
        "print(\"mi의 성적은: \", grade['mi'])\n",
        "\n",
        "a = {'a':1, 'b':2}\n",
        "print(\"key가 a인 value: \", a['a'])"
      ],
      "metadata": {
        "colab": {
          "base_uri": "https://localhost:8080/"
        },
        "id": "rTpA2HJChMMr",
        "outputId": "d1b50e42-0734-4606-8f78-fb5cd99478de"
      },
      "execution_count": null,
      "outputs": [
        {
          "output_type": "stream",
          "name": "stdout",
          "text": [
            "mi의 성적은:  100\n",
            "key가 a인 value:  1\n"
          ]
        }
      ]
    },
    {
      "cell_type": "markdown",
      "source": [
        "#### 딕셔너리 만들 때 주의 사항"
      ],
      "metadata": {
        "id": "_IjjpVpuh-LP"
      }
    },
    {
      "cell_type": "code",
      "source": [
        "# Key값이 중복되면 1개를 제외한 나머지가 무시됨\n",
        "a = {1: 'a', 1: 'b'}\n",
        "print(\"a[1]: \", a[1])"
      ],
      "metadata": {
        "colab": {
          "base_uri": "https://localhost:8080/"
        },
        "id": "zSuFBVYDhjWK",
        "outputId": "7c57fa5e-caba-4211-89c4-6c1645bf301e"
      },
      "execution_count": null,
      "outputs": [
        {
          "output_type": "stream",
          "name": "stdout",
          "text": [
            "a[1]:  b\n"
          ]
        }
      ]
    },
    {
      "cell_type": "code",
      "source": [
        "# Key에는 리스트 사용 불가능\n",
        "# a = {[1, 2]: 'hi'}"
      ],
      "metadata": {
        "id": "CGh2TuOTiJyx"
      },
      "execution_count": null,
      "outputs": []
    },
    {
      "cell_type": "markdown",
      "source": [
        "#### 딕셔너리 함수"
      ],
      "metadata": {
        "id": "G1the0AViS_1"
      }
    },
    {
      "cell_type": "code",
      "source": [
        "# Key 리스트 만들기(keys)\n",
        "a = {'name': 'mi', 'phone': '010-9999-1234', 'birth': '1114'}\n",
        "print(\"a의 Key들: \", a.keys())\n",
        "\n",
        "# dict_keys 사용은 리스트와 비슷하지만 append, insert, pop, remove, sort 함수는 수행 불가능\n",
        "for k in a.keys():\n",
        "  print(k)\n",
        "\n",
        "# dict_keys 리스트로 변환하기\n",
        "key_list = list(a.keys())\n",
        "print(\"key_list: \", key_list)"
      ],
      "metadata": {
        "colab": {
          "base_uri": "https://localhost:8080/"
        },
        "id": "vyH_wsIBiReM",
        "outputId": "96504546-1e24-4df2-e440-8f15f9d71292"
      },
      "execution_count": null,
      "outputs": [
        {
          "output_type": "stream",
          "name": "stdout",
          "text": [
            "a의 Key들:  dict_keys(['name', 'phone', 'birth'])\n",
            "name\n",
            "phone\n",
            "birth\n",
            "key_list:  ['name', 'phone', 'birth']\n"
          ]
        }
      ]
    },
    {
      "cell_type": "code",
      "source": [
        "# Value 리스트 만들기(values)\n",
        "a = {'name': 'mi', 'phone': '010-9999-1234', 'birth': '1114'}\n",
        "print(\"a의 Value들: \", a.values())"
      ],
      "metadata": {
        "colab": {
          "base_uri": "https://localhost:8080/"
        },
        "id": "klxJ8DXiiicd",
        "outputId": "2e765369-0c1b-4c8d-f28d-c86b6fb8217c"
      },
      "execution_count": null,
      "outputs": [
        {
          "output_type": "stream",
          "name": "stdout",
          "text": [
            "a의 Value들:  dict_values(['mi', '010-9999-1234', '1114'])\n"
          ]
        }
      ]
    },
    {
      "cell_type": "code",
      "source": [
        "# Key, Value 쌍 얻기(items)\n",
        "a = {'name': 'mi', 'phone': '010-9999-1234', 'birth': '1114'}\n",
        "print(\"a의 Item들: \", a.items())\n"
      ],
      "metadata": {
        "colab": {
          "base_uri": "https://localhost:8080/"
        },
        "id": "6dqSA7IxjQdQ",
        "outputId": "1e8d1760-4d09-4bb5-a9e5-1c9401fe2805"
      },
      "execution_count": null,
      "outputs": [
        {
          "output_type": "stream",
          "name": "stdout",
          "text": [
            "a의 Item들:  dict_items([('name', 'mi'), ('phone', '010-9999-1234'), ('birth', '1114')])\n"
          ]
        }
      ]
    },
    {
      "cell_type": "code",
      "source": [
        "# Key: Value 쌍 모두 지우기(clear)\n",
        "a = {'name': 'mi', 'phone': '010-9999-1234', 'birth': '1114'}\n",
        "a.clear()\n",
        "print(\"a: \", a)"
      ],
      "metadata": {
        "colab": {
          "base_uri": "https://localhost:8080/"
        },
        "id": "loSi7Gu2jbws",
        "outputId": "afbfa11b-c1be-49fc-d217-c52149e1d7e0"
      },
      "execution_count": null,
      "outputs": [
        {
          "output_type": "stream",
          "name": "stdout",
          "text": [
            "a:  {}\n"
          ]
        }
      ]
    },
    {
      "cell_type": "code",
      "source": [
        "# Key로 Value얻기(get)\n",
        "a = {'name': 'mi', 'phone': '010-9999-1234', 'birth': '1114'}\n",
        "print(\"a.get('name'): \", a.get('name')) # key값이 name\n",
        "print(\"a.get('phone'): \", a.get('phone')) # key값이 phone\n",
        "\n",
        "print(\"a.get('ring'): \", a.get('ring')) # 없는 key를 찾으면 반환 값은 None\n",
        "print(\"a.get('ring', 'NO'): \", a.get('ring', 'No')) # 없는 key ring을 찾으면 default값 No 반환"
      ],
      "metadata": {
        "colab": {
          "base_uri": "https://localhost:8080/"
        },
        "id": "b-kR08jYjjsO",
        "outputId": "14625be4-f694-4070-c2da-cc353fe85ea5"
      },
      "execution_count": null,
      "outputs": [
        {
          "output_type": "stream",
          "name": "stdout",
          "text": [
            "a.get('name'):  mi\n",
            "a.get('phone'):  010-9999-1234\n",
            "a.get('ring'):  None\n",
            "a.get('ring', 'NO'):  No\n"
          ]
        }
      ]
    },
    {
      "cell_type": "code",
      "source": [
        "# 해당 Key가 딕셔너리 안에 있는지 조사하기(in)\n",
        "a = {'name': 'mi', 'phone': '010-9999-1234', 'birth': '1114'}\n",
        "print(\"'name' in a: \", 'name' in a)\n",
        "print(\"'email' in a: \", 'email' in a)"
      ],
      "metadata": {
        "colab": {
          "base_uri": "https://localhost:8080/"
        },
        "id": "wwcRZ4XDjyk7",
        "outputId": "9d909fd0-386c-4514-db09-85b5e0626926"
      },
      "execution_count": null,
      "outputs": [
        {
          "output_type": "stream",
          "name": "stdout",
          "text": [
            "'name' in a:  True\n",
            "'email' in a:  False\n"
          ]
        }
      ]
    },
    {
      "cell_type": "markdown",
      "source": [
        "## 제어문"
      ],
      "metadata": {
        "id": "Swx5cA8Vpnjb"
      }
    },
    {
      "cell_type": "markdown",
      "source": [
        "### if문"
      ],
      "metadata": {
        "id": "RR51M5oRprsJ"
      }
    },
    {
      "cell_type": "markdown",
      "source": [
        "#### if, if & else"
      ],
      "metadata": {
        "id": "bZz4HsmIrS6R"
      }
    },
    {
      "cell_type": "code",
      "source": [
        "# 비교 연산자 사용 if문\n",
        "money = 2000\n",
        "if money >= 3000:\n",
        "  print(\"택시를 타고 가라\")\n",
        "else:\n",
        "  print(\"걸어가라\")"
      ],
      "metadata": {
        "colab": {
          "base_uri": "https://localhost:8080/"
        },
        "id": "rfMHctXnkvjc",
        "outputId": "7f68f844-e745-4bcd-e99b-a0394f795012"
      },
      "execution_count": null,
      "outputs": [
        {
          "output_type": "stream",
          "name": "stdout",
          "text": [
            "걸어가라\n"
          ]
        }
      ]
    },
    {
      "cell_type": "code",
      "source": [
        "# and, or, not 사용 if문\n",
        "money = 2000\n",
        "card = True\n",
        "if money >=3000 or card:\n",
        "  print(\"택시를 타고 가라\")\n",
        "else:\n",
        "  print(\"걸어가라\")"
      ],
      "metadata": {
        "colab": {
          "base_uri": "https://localhost:8080/"
        },
        "id": "jCP2ziv2p-4P",
        "outputId": "b0b5aa6d-9742-4673-8cbf-98a125117bce"
      },
      "execution_count": null,
      "outputs": [
        {
          "output_type": "stream",
          "name": "stdout",
          "text": [
            "택시를 타고 가라\n"
          ]
        }
      ]
    },
    {
      "cell_type": "code",
      "source": [
        "# in, not in\n",
        "print(\"1 in [1, 2, 3]: \", 1 in [1, 2, 3])\n",
        "print(\"1 not in [1, 2, 3]: \", 1 in [1, 2, 3])\n",
        "print(\"'a' in ('a','b','c'): \",'a' in ('a','b','c'))\n",
        "print(\"'j' not in 'python': \", 'j' not in 'python')"
      ],
      "metadata": {
        "colab": {
          "base_uri": "https://localhost:8080/"
        },
        "id": "6J3mdmCjqM5W",
        "outputId": "f963301a-3ab1-4252-9d4e-d9d8f6b322c2"
      },
      "execution_count": null,
      "outputs": [
        {
          "output_type": "stream",
          "name": "stdout",
          "text": [
            "1 in [1, 2, 3]:  True\n",
            "1 not in [1, 2, 3]:  True\n",
            "'a' in ('a','b','c'):  True\n",
            " 'j' not in 'python':  True\n"
          ]
        }
      ]
    },
    {
      "cell_type": "code",
      "source": [
        "# in, not in 사용 if문\n",
        "pocket = ['paper', 'cellphone', 'money']\n",
        "if 'money' in pocket:\n",
        "  print(\"택시를 타고 가라\")\n",
        "else:\n",
        "  print(\"걸어가라\")"
      ],
      "metadata": {
        "colab": {
          "base_uri": "https://localhost:8080/"
        },
        "id": "vL09tsYgqn6h",
        "outputId": "b5720355-dbf0-4929-cadb-cd31e3604212"
      },
      "execution_count": null,
      "outputs": [
        {
          "output_type": "stream",
          "name": "stdout",
          "text": [
            "택시를 타고 가라\n"
          ]
        }
      ]
    },
    {
      "cell_type": "code",
      "source": [
        "from IPython.core.events import post_run_cell\n",
        "# pass 조건문에서 아무것도 하지 않게 설정\n",
        "pocket = ['paper', 'cellphone', 'money']\n",
        "if 'money' in pocket:\n",
        "  pass\n",
        "else:\n",
        "  print(\"걸어가라\")"
      ],
      "metadata": {
        "id": "VB2keLp8rBwo"
      },
      "execution_count": null,
      "outputs": []
    },
    {
      "cell_type": "markdown",
      "source": [
        "#### elif"
      ],
      "metadata": {
        "id": "lZ-Zy1YjrZwV"
      }
    },
    {
      "cell_type": "code",
      "source": [
        "# elif 사용 X\n",
        "pocket = ['paper', 'handphone']\n",
        "card = True\n",
        "if 'money' in pocket:\n",
        "  print(\"택시를 타고 가라\")\n",
        "else:\n",
        "  if card:\n",
        "    print(\"택시를 타고 가라\")\n",
        "  else:\n",
        "    print(\"걸어가라\")"
      ],
      "metadata": {
        "colab": {
          "base_uri": "https://localhost:8080/"
        },
        "id": "TU1AiGd1rQOr",
        "outputId": "27a8f434-5ddd-4860-d375-5084cf5008ca"
      },
      "execution_count": null,
      "outputs": [
        {
          "output_type": "stream",
          "name": "stdout",
          "text": [
            "택시를 타고 가라\n"
          ]
        }
      ]
    },
    {
      "cell_type": "code",
      "source": [
        "# elif 사용 \n",
        "pocket = ['paper', 'handphone']\n",
        "card = True\n",
        "if 'money' in pocket:\n",
        "  print(\"택시를 타고 가라\")\n",
        "\n",
        "elif card:\n",
        "  print(\"택시를 타고 가라\")\n",
        "else:\n",
        "  print(\"걸어가라\")"
      ],
      "metadata": {
        "colab": {
          "base_uri": "https://localhost:8080/"
        },
        "id": "uRkLKCd0rqQd",
        "outputId": "f61a08e9-8cdc-4584-8fcb-3f4a6870a04a"
      },
      "execution_count": null,
      "outputs": [
        {
          "output_type": "stream",
          "name": "stdout",
          "text": [
            "택시를 타고 가라\n"
          ]
        }
      ]
    },
    {
      "cell_type": "markdown",
      "source": [
        "### 조건부 표현식"
      ],
      "metadata": {
        "id": "UKvIQkmcr1nI"
      }
    },
    {
      "cell_type": "code",
      "source": [
        "score = int(input(\"점수를 입력하세요\"))\n",
        "# if 사용\n",
        "if score>=60:\n",
        "  message = \"success\"\n",
        "else:\n",
        "  message = \"failure\"\n",
        "\n",
        "print(message)\n",
        "\n",
        "# 조건부 표현식\n",
        "message = \"success\" if score>=60 else \"failure\"\n",
        "print(message)"
      ],
      "metadata": {
        "colab": {
          "base_uri": "https://localhost:8080/"
        },
        "id": "rDu9iMj4rt9X",
        "outputId": "10755a0d-1f97-4b4c-f3a0-3e9f43b2b971"
      },
      "execution_count": null,
      "outputs": [
        {
          "output_type": "stream",
          "name": "stdout",
          "text": [
            "점수를 입력하세요80\n",
            "success\n",
            "success\n"
          ]
        }
      ]
    },
    {
      "cell_type": "markdown",
      "source": [
        "### while\n",
        ": 조건이 참일 동안 반복 수행"
      ],
      "metadata": {
        "id": "2CT8t0-ssYZv"
      }
    },
    {
      "cell_type": "code",
      "source": [
        "# 열 번 찍어 안 넘어가는 나무 없다\n",
        "treeHit = 0\n",
        "while treeHit<10:\n",
        "  treeHit += 1\n",
        "  print(\"나무를 %d번 찍었습니다.\" %treeHit)\n",
        "  if treeHit == 10:\n",
        "    print(\"나무가 넘어갔습니다.\")"
      ],
      "metadata": {
        "colab": {
          "base_uri": "https://localhost:8080/"
        },
        "id": "9f7NYOyWsP2u",
        "outputId": "a8658753-2782-46dc-c738-605d1cbe480f"
      },
      "execution_count": null,
      "outputs": [
        {
          "output_type": "stream",
          "name": "stdout",
          "text": [
            "나무를 1번 찍었습니다.\n",
            "나무를 2번 찍었습니다.\n",
            "나무를 3번 찍었습니다.\n",
            "나무를 4번 찍었습니다.\n",
            "나무를 5번 찍었습니다.\n",
            "나무를 6번 찍었습니다.\n",
            "나무를 7번 찍었습니다.\n",
            "나무를 8번 찍었습니다.\n",
            "나무를 9번 찍었습니다.\n",
            "나무를 10번 찍었습니다.\n",
            "나무가 넘어갔습니다.\n"
          ]
        }
      ]
    },
    {
      "cell_type": "code",
      "source": [
        "prompt = \"\"\"\n",
        "  1. Add\n",
        "  2. Del\n",
        "  3. List\n",
        "  4. Quit\n",
        "\n",
        "  Enter number: \"\"\"\n",
        "\n",
        "number = 0\n",
        "while number != 4:\n",
        "  print(prompt)\n",
        "  number = int(input())"
      ],
      "metadata": {
        "colab": {
          "base_uri": "https://localhost:8080/"
        },
        "id": "cIKeBxEDsvml",
        "outputId": "5576b14b-eb95-4564-fe1e-c0ef6551611d"
      },
      "execution_count": null,
      "outputs": [
        {
          "name": "stdout",
          "output_type": "stream",
          "text": [
            "\n",
            "  1. Add\n",
            "  2. Del\n",
            "  3. List\n",
            "  4. Quit\n",
            "\n",
            "  Enter number: \n",
            "1\n",
            "\n",
            "  1. Add\n",
            "  2. Del\n",
            "  3. List\n",
            "  4. Quit\n",
            "\n",
            "  Enter number: \n",
            "4\n"
          ]
        }
      ]
    },
    {
      "cell_type": "markdown",
      "source": [
        "#### break\n",
        ": while문 강제 종료"
      ],
      "metadata": {
        "id": "AbtFenWwtiGV"
      }
    },
    {
      "cell_type": "code",
      "source": [
        "# 커피 자판기\n",
        "coffee = 10\n",
        "money = 300\n",
        "\n",
        "while money:\n",
        "  print(\"돈을 받았습니다.\")\n",
        "  coffee -= 1\n",
        "  print(\"남은 커피 수는 %d개 입니다.\" %coffee)\n",
        "  if coffee == 0:\n",
        "    print(\"커피가 다 떨어졌습니다. 판매를 중지합니다.\")\n",
        "    break"
      ],
      "metadata": {
        "colab": {
          "base_uri": "https://localhost:8080/"
        },
        "id": "sF8vCRSItOrc",
        "outputId": "ea4abcaf-802a-4066-af8c-57262abf4e2a"
      },
      "execution_count": null,
      "outputs": [
        {
          "output_type": "stream",
          "name": "stdout",
          "text": [
            "돈을 받았습니다.\n",
            "남은 커피 수는 9개 입니다.\n",
            "돈을 받았습니다.\n",
            "남은 커피 수는 8개 입니다.\n",
            "돈을 받았습니다.\n",
            "남은 커피 수는 7개 입니다.\n",
            "돈을 받았습니다.\n",
            "남은 커피 수는 6개 입니다.\n",
            "돈을 받았습니다.\n",
            "남은 커피 수는 5개 입니다.\n",
            "돈을 받았습니다.\n",
            "남은 커피 수는 4개 입니다.\n",
            "돈을 받았습니다.\n",
            "남은 커피 수는 3개 입니다.\n",
            "돈을 받았습니다.\n",
            "남은 커피 수는 2개 입니다.\n",
            "돈을 받았습니다.\n",
            "남은 커피 수는 1개 입니다.\n",
            "돈을 받았습니다.\n",
            "남은 커피 수는 0개 입니다.\n",
            "커피가 다 떨어졌습니다. 판매를 중지합니다.\n"
          ]
        }
      ]
    },
    {
      "cell_type": "code",
      "source": [
        "coffee = 10\n",
        "\n",
        "while True:\n",
        "  money = int(input(\"돈을 넣어주세요.\"))\n",
        "  if money == 300:\n",
        "    print(\"커피를 줍니다.\")\n",
        "    coffee -= 1\n",
        "  elif money >= 300:\n",
        "    print(\"거스름돈 %d를 주고 커피를 줍니다.\" %(money-300))\n",
        "    coffee -= 1\n",
        "  else:\n",
        "    print(\"돈을 다시 돌려주고 커피를 주지 않습니다.\")\n",
        "    print(\"남은 커피의 양은 %d개 입니다.\" %coffee)\n",
        "  if coffee == 0:\n",
        "    print(\"커피가 다 떨어졌습니다. 판매를 중지합니다.\")\n",
        "    break"
      ],
      "metadata": {
        "colab": {
          "base_uri": "https://localhost:8080/"
        },
        "id": "rDpLnjm3t7Eq",
        "outputId": "fb8f26a2-a10c-483e-826c-ffcfc7001368"
      },
      "execution_count": null,
      "outputs": [
        {
          "output_type": "stream",
          "name": "stdout",
          "text": [
            "돈을 넣어주세요.300\n",
            "커피를 줍니다.\n",
            "돈을 넣어주세요.200\n",
            "돈을 다시 돌려주고 커피를 주지 않습니다.\n",
            "남은 커피의 양은 9개 입니다.\n",
            "돈을 넣어주세요.400\n",
            "거스름돈 100를 주고 커피를 줍니다.\n",
            "돈을 넣어주세요.500\n",
            "거스름돈 200를 주고 커피를 줍니다.\n",
            "돈을 넣어주세요.300\n",
            "커피를 줍니다.\n",
            "돈을 넣어주세요.300\n",
            "커피를 줍니다.\n",
            "돈을 넣어주세요.300\n",
            "커피를 줍니다.\n",
            "돈을 넣어주세요.300\n",
            "커피를 줍니다.\n",
            "돈을 넣어주세요.300\n",
            "커피를 줍니다.\n",
            "돈을 넣어주세요.300\n",
            "커피를 줍니다.\n",
            "돈을 넣어주세요.300\n",
            "커피를 줍니다.\n",
            "커피가 다 떨어졌습니다. 판매를 중지합니다.\n"
          ]
        }
      ]
    },
    {
      "cell_type": "markdown",
      "source": [
        "#### continue\n",
        ": while문의 맨 처음으로 돌아가기"
      ],
      "metadata": {
        "id": "BVgz6UDNu9o4"
      }
    },
    {
      "cell_type": "code",
      "source": [
        "a = 0\n",
        "while a<10:\n",
        "  a += 1\n",
        "  if a%2 == 0: continue\n",
        "  print(a)"
      ],
      "metadata": {
        "colab": {
          "base_uri": "https://localhost:8080/"
        },
        "id": "wzXMlRJZuqny",
        "outputId": "ac011b3b-576b-4f28-d320-ff4a34a11389"
      },
      "execution_count": null,
      "outputs": [
        {
          "output_type": "stream",
          "name": "stdout",
          "text": [
            "1\n",
            "3\n",
            "5\n",
            "7\n",
            "9\n"
          ]
        }
      ]
    },
    {
      "cell_type": "markdown",
      "source": [
        "#### 무한루프"
      ],
      "metadata": {
        "id": "RBTRyWbnvJSB"
      }
    },
    {
      "cell_type": "code",
      "source": [
        "# while True:\n",
        "#   print(\"Ctrl+c를 눌러야 while문을 빠져나갈 수 있습니다.\")"
      ],
      "metadata": {
        "id": "4LXqeTkxvG5J"
      },
      "execution_count": null,
      "outputs": []
    },
    {
      "cell_type": "markdown",
      "source": [
        "### for문"
      ],
      "metadata": {
        "id": "5q3PVKb3vfRD"
      }
    },
    {
      "cell_type": "code",
      "source": [
        "# 전형적인 for문\n",
        "test_list = ['one', 'two', 'three']\n",
        "for i in test_list:\n",
        "  print(i)"
      ],
      "metadata": {
        "colab": {
          "base_uri": "https://localhost:8080/"
        },
        "id": "T_J2NSUhvhRe",
        "outputId": "433e4105-079b-408b-8fc4-8f22b242954d"
      },
      "execution_count": null,
      "outputs": [
        {
          "output_type": "stream",
          "name": "stdout",
          "text": [
            "one\n",
            "two\n",
            "three\n"
          ]
        }
      ]
    },
    {
      "cell_type": "code",
      "source": [
        "# 다양한 for문의 사용\n",
        "a = [(1, 2), (3, 4), (5, 6)]\n",
        "for (first, last) in a:\n",
        "  print(first+last)"
      ],
      "metadata": {
        "colab": {
          "base_uri": "https://localhost:8080/"
        },
        "id": "_lZImJ_2v5fC",
        "outputId": "739a9b63-d801-4696-ff29-22e43e02f8e1"
      },
      "execution_count": null,
      "outputs": [
        {
          "output_type": "stream",
          "name": "stdout",
          "text": [
            "3\n",
            "7\n",
            "11\n"
          ]
        }
      ]
    },
    {
      "cell_type": "code",
      "source": [
        "# 총 5명의 학생이 시험을 보았는데 시험 점수가 60점 이상이면 합격이고 아니면 불합격이다. 합격인지 불합격인지 결과를 보여주시오.\n",
        "marks = [90, 25, 67, 45, 80]\n",
        "\n",
        "for i in range(len(marks)):\n",
        "  result = \"합격\" if marks[i]>=60 else \"불합격\"\n",
        "  print(f\"{i+1}번째 학생은 {result}입니다.\")"
      ],
      "metadata": {
        "colab": {
          "base_uri": "https://localhost:8080/"
        },
        "id": "wh0dseVnwDt6",
        "outputId": "dec80ee0-a873-45d8-ae36-9500848a41d1"
      },
      "execution_count": null,
      "outputs": [
        {
          "output_type": "stream",
          "name": "stdout",
          "text": [
            "1번째 학생은 합격입니다.\n",
            "2번째 학생은 불합격입니다.\n",
            "3번째 학생은 합격입니다.\n",
            "4번째 학생은 불합격입니다.\n",
            "5번째 학생은 합격입니다.\n"
          ]
        }
      ]
    },
    {
      "cell_type": "markdown",
      "source": [
        "#### continue\n",
        ": for문 맨 처음으로 돌아감"
      ],
      "metadata": {
        "id": "d00x9Awqw7sa"
      }
    },
    {
      "cell_type": "code",
      "source": [
        "marks = [90, 25, 67, 45, 80]\n",
        "\n",
        "number = 0\n",
        "for mark in marks:\n",
        "  number += 1\n",
        "  if mark < 60:\n",
        "    continue\n",
        "  print(\"%d번 학생 축하합니다. 합격입니다.\" %number)"
      ],
      "metadata": {
        "colab": {
          "base_uri": "https://localhost:8080/"
        },
        "id": "pJ184SbUwhOJ",
        "outputId": "c2dc6d04-c1e2-4266-a48d-592bc82bd629"
      },
      "execution_count": null,
      "outputs": [
        {
          "output_type": "stream",
          "name": "stdout",
          "text": [
            "1번 학생 축하합니다. 합격입니다.\n",
            "3번 학생 축하합니다. 합격입니다.\n",
            "5번 학생 축하합니다. 합격입니다.\n"
          ]
        }
      ]
    },
    {
      "cell_type": "markdown",
      "source": [
        "#### range\n",
        ": range(값1, 값2), 값2는 포함되지 않음"
      ],
      "metadata": {
        "id": "76dmsKWvxr06"
      }
    },
    {
      "cell_type": "code",
      "source": [
        "# 10까지 더한 값 출력\n",
        "add = 0\n",
        "for i in range(1, 11):\n",
        "  add += i\n",
        "print(add)"
      ],
      "metadata": {
        "colab": {
          "base_uri": "https://localhost:8080/"
        },
        "id": "2nvoxNFtxQP9",
        "outputId": "c706ebc6-2b1e-465e-b0cc-ca6c2f264344"
      },
      "execution_count": null,
      "outputs": [
        {
          "output_type": "stream",
          "name": "stdout",
          "text": [
            "55\n"
          ]
        }
      ]
    },
    {
      "cell_type": "code",
      "source": [
        "marks = [90, 25, 67, 45, 80]\n",
        "\n",
        "for i in range(len(marks)):\n",
        "  if marks[i] < 60:\n",
        "    continue\n",
        "  print(\"%d번 학생 축하합니다. 합격입니다.\" %(i+1))"
      ],
      "metadata": {
        "colab": {
          "base_uri": "https://localhost:8080/"
        },
        "id": "6Gml46JcyBu1",
        "outputId": "0d22b44e-28d0-4072-cc58-e7cc74f8a268"
      },
      "execution_count": null,
      "outputs": [
        {
          "output_type": "stream",
          "name": "stdout",
          "text": [
            "1번 학생 축하합니다. 합격입니다.\n",
            "3번 학생 축하합니다. 합격입니다.\n",
            "5번 학생 축하합니다. 합격입니다.\n"
          ]
        }
      ]
    },
    {
      "cell_type": "code",
      "source": [
        "# 구구단\n",
        "for i in range(2, 10):\n",
        "  for j in range(1, 10):\n",
        "    print(f\"{i} * {j} = {i*j}\", end = ' ')\n",
        "  print()"
      ],
      "metadata": {
        "colab": {
          "base_uri": "https://localhost:8080/"
        },
        "id": "fZDnzyOiyMEa",
        "outputId": "5c0607cf-a062-4142-e394-0f4eacf620ea"
      },
      "execution_count": null,
      "outputs": [
        {
          "output_type": "stream",
          "name": "stdout",
          "text": [
            "2 * 1 = 2 2 * 2 = 4 2 * 3 = 6 2 * 4 = 8 2 * 5 = 10 2 * 6 = 12 2 * 7 = 14 2 * 8 = 16 2 * 9 = 18 \n",
            "3 * 1 = 3 3 * 2 = 6 3 * 3 = 9 3 * 4 = 12 3 * 5 = 15 3 * 6 = 18 3 * 7 = 21 3 * 8 = 24 3 * 9 = 27 \n",
            "4 * 1 = 4 4 * 2 = 8 4 * 3 = 12 4 * 4 = 16 4 * 5 = 20 4 * 6 = 24 4 * 7 = 28 4 * 8 = 32 4 * 9 = 36 \n",
            "5 * 1 = 5 5 * 2 = 10 5 * 3 = 15 5 * 4 = 20 5 * 5 = 25 5 * 6 = 30 5 * 7 = 35 5 * 8 = 40 5 * 9 = 45 \n",
            "6 * 1 = 6 6 * 2 = 12 6 * 3 = 18 6 * 4 = 24 6 * 5 = 30 6 * 6 = 36 6 * 7 = 42 6 * 8 = 48 6 * 9 = 54 \n",
            "7 * 1 = 7 7 * 2 = 14 7 * 3 = 21 7 * 4 = 28 7 * 5 = 35 7 * 6 = 42 7 * 7 = 49 7 * 8 = 56 7 * 9 = 63 \n",
            "8 * 1 = 8 8 * 2 = 16 8 * 3 = 24 8 * 4 = 32 8 * 5 = 40 8 * 6 = 48 8 * 7 = 56 8 * 8 = 64 8 * 9 = 72 \n",
            "9 * 1 = 9 9 * 2 = 18 9 * 3 = 27 9 * 4 = 36 9 * 5 = 45 9 * 6 = 54 9 * 7 = 63 9 * 8 = 72 9 * 9 = 81 \n"
          ]
        }
      ]
    },
    {
      "cell_type": "markdown",
      "source": [
        "#### 리스트 커프리헨션 사용하기\n",
        ": [표현식 for 항목 in 반복가능객체 if 조건문]\n",
        "\n",
        "\n",
        "\n"
      ],
      "metadata": {
        "id": "JbkyD2h7ylZM"
      }
    },
    {
      "cell_type": "code",
      "source": [
        "# 3 곱한 결과값 리스트 만들기\n",
        "a = [1, 2, 3, 4]\n",
        "result = []\n",
        "for num in a:\n",
        "  result.append(num*3)\n",
        "print(result)"
      ],
      "metadata": {
        "colab": {
          "base_uri": "https://localhost:8080/"
        },
        "id": "7zhkEt6MycRn",
        "outputId": "974c9655-e790-4666-96ca-fddd4e554f11"
      },
      "execution_count": null,
      "outputs": [
        {
          "output_type": "stream",
          "name": "stdout",
          "text": [
            "[3, 6, 9, 12]\n"
          ]
        }
      ]
    },
    {
      "cell_type": "code",
      "source": [
        "# 리스트 커프리헨션 사용\n",
        "a = [1, 2, 3, 4]\n",
        "result = [num * 3 for num in a]\n",
        "print(result)"
      ],
      "metadata": {
        "colab": {
          "base_uri": "https://localhost:8080/"
        },
        "id": "iLM4HNzsy1Ps",
        "outputId": "9c2decbf-c928-41a2-ab33-72be2462d8a6"
      },
      "execution_count": null,
      "outputs": [
        {
          "output_type": "stream",
          "name": "stdout",
          "text": [
            "[3, 6, 9, 12]\n"
          ]
        }
      ]
    },
    {
      "cell_type": "code",
      "source": [
        "a = [1, 2, 3, 4]\n",
        "result = [num * 3 for num in a if num % 2 == 0]\n",
        "print(result)"
      ],
      "metadata": {
        "colab": {
          "base_uri": "https://localhost:8080/"
        },
        "id": "1R1Gs8cpzdNR",
        "outputId": "2a94783b-fe8c-4580-8f0f-3d56cca2ee04"
      },
      "execution_count": null,
      "outputs": [
        {
          "output_type": "stream",
          "name": "stdout",
          "text": [
            "[6, 12]\n"
          ]
        }
      ]
    },
    {
      "cell_type": "code",
      "source": [
        "# 구구단\n",
        "result = [x * y for x in range(2,10)\n",
        "                for y in range(2, 10)]\n",
        "print(result)"
      ],
      "metadata": {
        "colab": {
          "base_uri": "https://localhost:8080/"
        },
        "id": "8Spa9OiFztRg",
        "outputId": "01b722e7-190f-4206-8441-7ac0bf44c5d4"
      },
      "execution_count": null,
      "outputs": [
        {
          "output_type": "stream",
          "name": "stdout",
          "text": [
            "[4, 6, 8, 10, 12, 14, 16, 18, 6, 9, 12, 15, 18, 21, 24, 27, 8, 12, 16, 20, 24, 28, 32, 36, 10, 15, 20, 25, 30, 35, 40, 45, 12, 18, 24, 30, 36, 42, 48, 54, 14, 21, 28, 35, 42, 49, 56, 63, 16, 24, 32, 40, 48, 56, 64, 72, 18, 27, 36, 45, 54, 63, 72, 81]\n"
          ]
        }
      ]
    },
    {
      "cell_type": "markdown",
      "source": [
        "## 함수"
      ],
      "metadata": {
        "id": "ttkTe0PA0YeV"
      }
    },
    {
      "cell_type": "code",
      "source": [
        "# 기본적인 함수\n",
        "# 매개변수: 함수에 전달된 값을 저장하는 변수\n",
        "# 인수: 함수에 전달하는 값\n",
        "def add(a, b): # a, b는 매개변수\n",
        "  return a + b\n",
        "\n",
        "a = 3\n",
        "b = 4 \n",
        "c = add(a, b) # a, b는 인수\n",
        "print(c)"
      ],
      "metadata": {
        "colab": {
          "base_uri": "https://localhost:8080/"
        },
        "id": "1TOSZtvm0Qk7",
        "outputId": "385dbc73-4b6c-41f7-d8c1-0ec3116712ca"
      },
      "execution_count": null,
      "outputs": [
        {
          "output_type": "stream",
          "name": "stdout",
          "text": [
            "7\n"
          ]
        }
      ]
    },
    {
      "cell_type": "code",
      "source": [
        "# 입력값이 없는 함수\n",
        "def say():\n",
        "  return 'Hi'\n",
        "\n",
        "say()"
      ],
      "metadata": {
        "colab": {
          "base_uri": "https://localhost:8080/",
          "height": 36
        },
        "id": "yPpqHvdQ00Y_",
        "outputId": "9d7a82af-3914-4141-c31e-d37d70e6fe69"
      },
      "execution_count": null,
      "outputs": [
        {
          "output_type": "execute_result",
          "data": {
            "text/plain": [
              "'Hi'"
            ],
            "application/vnd.google.colaboratory.intrinsic+json": {
              "type": "string"
            }
          },
          "metadata": {},
          "execution_count": 42
        }
      ]
    },
    {
      "cell_type": "code",
      "source": [
        "# return값이 없는 함수\n",
        "def add(a, b):\n",
        "  print(f\"{a}와 {b}의 합은 {a+b}입니다.\") \n",
        "\n",
        "a = add(3, 4)\n",
        "print(a) # return값이 없기 때문에 None 출력"
      ],
      "metadata": {
        "colab": {
          "base_uri": "https://localhost:8080/"
        },
        "id": "3TsUan4W1Nfp",
        "outputId": "e7fcbfca-2ab2-4b6d-d8f1-69f0a8e64604"
      },
      "execution_count": null,
      "outputs": [
        {
          "output_type": "stream",
          "name": "stdout",
          "text": [
            "3와 4의 합은 7입니다.\n",
            "None\n"
          ]
        }
      ]
    },
    {
      "cell_type": "code",
      "source": [
        "# 입력값도 return값도 없는 함수\n",
        "def say():\n",
        "  print('Hi')\n",
        "\n",
        "say()"
      ],
      "metadata": {
        "colab": {
          "base_uri": "https://localhost:8080/"
        },
        "id": "7RcjROv21bo-",
        "outputId": "7af2aa50-9300-4b55-c4ee-1d266fd08dfe"
      },
      "execution_count": null,
      "outputs": [
        {
          "output_type": "stream",
          "name": "stdout",
          "text": [
            "Hi\n"
          ]
        }
      ]
    },
    {
      "cell_type": "markdown",
      "source": [
        "#### 매개변수 지정하여 호출하기"
      ],
      "metadata": {
        "id": "0i9qGXNS1_XC"
      }
    },
    {
      "cell_type": "code",
      "source": [
        "# 매개변수 지정하여 호출하기\n",
        "def sub(a, b):\n",
        "  return a - b\n",
        "\n",
        "result = sub(a=7, b=3)\n",
        "print(\"sub(a=7, b=3): \", result)\n",
        "result = sub(b=3, a=7)\n",
        "print(\"sub(b=3, a=7): \", result)"
      ],
      "metadata": {
        "colab": {
          "base_uri": "https://localhost:8080/"
        },
        "id": "z_P_Cx0615tz",
        "outputId": "ed8e5344-49c6-4864-8d87-9ed294417d26"
      },
      "execution_count": null,
      "outputs": [
        {
          "output_type": "stream",
          "name": "stdout",
          "text": [
            "sub(a=7, b=3):  4\n",
            "sub(b=3, a=7):  4\n"
          ]
        }
      ]
    },
    {
      "cell_type": "markdown",
      "source": [
        "#### 입력값의 갯수가 정해져 있지 않는 경우\n",
        ": *"
      ],
      "metadata": {
        "id": "2Xk_cF662gzm"
      }
    },
    {
      "cell_type": "code",
      "source": [
        "# def 함수명(*매개변수): ...\n",
        "def add_money(*args):\n",
        "  result = 0\n",
        "  for i in args:\n",
        "    result += i \n",
        "  return result\n",
        "\n",
        "result = add_money(100, 200, 300)\n",
        "print(result)\n",
        "\n",
        "result = add_money(0)\n",
        "print(result)"
      ],
      "metadata": {
        "colab": {
          "base_uri": "https://localhost:8080/"
        },
        "id": "ZXIhk4AX2evV",
        "outputId": "cd6b3658-943e-4611-bceb-ad5fe8a8a476"
      },
      "execution_count": null,
      "outputs": [
        {
          "output_type": "stream",
          "name": "stdout",
          "text": [
            "600\n",
            "0\n"
          ]
        }
      ]
    },
    {
      "cell_type": "code",
      "source": [
        "def add_mul(choice, *args):\n",
        "  if choice == 'add':\n",
        "    result = 0\n",
        "    for i in args:\n",
        "      result += i\n",
        "  elif choice == 'mul':\n",
        "    result = 1\n",
        "    for i in args:\n",
        "      result += i\n",
        "  return result\n",
        "\n",
        "print(f\"입력값의 모든 합은 {add_mul('add',3, 4, 5)}\")\n",
        "print(f\"입력값의 모든 곱은 {add_mul('mul',2, 4)}\")"
      ],
      "metadata": {
        "colab": {
          "base_uri": "https://localhost:8080/"
        },
        "id": "3Nx68xp33e-C",
        "outputId": "b7a6ec5c-5039-46f9-a375-b74a8fb36930"
      },
      "execution_count": null,
      "outputs": [
        {
          "output_type": "stream",
          "name": "stdout",
          "text": [
            "입력값의 모든 합은 12\n",
            "입력값의 모든 곱은 7\n"
          ]
        }
      ]
    },
    {
      "cell_type": "markdown",
      "source": [
        "#### 키워드 매개변수 kwargs\n",
        ": ** 매개변수는 딕셔너리가 됨"
      ],
      "metadata": {
        "id": "CTg_ybFA4Rcy"
      }
    },
    {
      "cell_type": "code",
      "source": [
        "def print_kwargs(**kwargs):\n",
        "  print(kwargs)\n",
        "\n",
        "print_kwargs(a=1)\n",
        "print_kwargs(name = 'mi', age = 3)"
      ],
      "metadata": {
        "colab": {
          "base_uri": "https://localhost:8080/"
        },
        "id": "LAbtOtYv4MPQ",
        "outputId": "3658d049-e26a-4b46-e1b3-3f8c03cae4ad"
      },
      "execution_count": null,
      "outputs": [
        {
          "output_type": "stream",
          "name": "stdout",
          "text": [
            "{'a': 1}\n",
            "{'name': 'mi', 'age': 3}\n"
          ]
        }
      ]
    },
    {
      "cell_type": "markdown",
      "source": [
        "#### return값은 무조건 하나"
      ],
      "metadata": {
        "id": "L1rI9i4248Gu"
      }
    },
    {
      "cell_type": "code",
      "source": [
        "def add_and_mul(a, b):\n",
        "  return a+b, a*b # 두개의 값을 리턴하는 것이 아니라 리스트를 리턴함\n",
        "\n",
        "result = add_and_mul(3, 4)\n",
        "print(result)\n",
        "\n",
        "add, mul = add_and_mul(3, 4)\n",
        "print(f\"덧셈의 결과는 {add}이고, 곱의 결과는 {mul}이다\")"
      ],
      "metadata": {
        "colab": {
          "base_uri": "https://localhost:8080/"
        },
        "id": "xM5Isbt044da",
        "outputId": "d96b30a9-6bf0-41e6-a9bc-9c35c66cd44c"
      },
      "execution_count": null,
      "outputs": [
        {
          "output_type": "stream",
          "name": "stdout",
          "text": [
            "(7, 12)\n",
            "덧셈의 결과는 7이고, 곱의 결과는 12이다\n"
          ]
        }
      ]
    },
    {
      "cell_type": "markdown",
      "source": [
        "#### 함수를 빠져나가고 싶다면 return 단독 사용"
      ],
      "metadata": {
        "id": "yz5897GT5i2D"
      }
    },
    {
      "cell_type": "code",
      "source": [
        "def say_nick(nick):\n",
        "  if nick == \"바보\":\n",
        "    return\n",
        "  print(\"나의 별명은 %s입니다.\" %nick)\n",
        "\n",
        "say_nick(\"바보\")\n",
        "say_nick(\"아르르르\")"
      ],
      "metadata": {
        "colab": {
          "base_uri": "https://localhost:8080/"
        },
        "id": "MoyA0p_n5L5q",
        "outputId": "b8cdeb1d-ceca-4521-e48a-690dcb6512c2"
      },
      "execution_count": null,
      "outputs": [
        {
          "output_type": "stream",
          "name": "stdout",
          "text": [
            "나의 별명은 아르르르입니다.\n"
          ]
        }
      ]
    },
    {
      "cell_type": "markdown",
      "source": [
        "#### 매개변수에 초깃값 미리 설정하기"
      ],
      "metadata": {
        "id": "IUUkqaam5521"
      }
    },
    {
      "cell_type": "code",
      "source": [
        "def say_myself(name, age, man=True):\n",
        "  print(\"나의 이름은 %s입니다.\" %name)\n",
        "  print(\"나이는 %d살입니다.\" %age)\n",
        "  if man:\n",
        "    print(\"남자입니다.\")\n",
        "  else:\n",
        "    print(\"여자입니다.\")\n",
        "\n",
        "say_myself(\"홍길동\", 25)\n",
        "print()\n",
        "say_myself(\"홍길동\", 25, True)\n",
        "print()\n",
        "say_myself(\"장미\", 27, False)"
      ],
      "metadata": {
        "colab": {
          "base_uri": "https://localhost:8080/"
        },
        "id": "Bxzb0TIU53qz",
        "outputId": "6480093c-4842-43ec-b38f-271eef70ff7e"
      },
      "execution_count": null,
      "outputs": [
        {
          "output_type": "stream",
          "name": "stdout",
          "text": [
            "나의 이름은 홍길동입니다.\n",
            "나이는 25살입니다.\n",
            "남자입니다.\n",
            "\n",
            "나의 이름은 홍길동입니다.\n",
            "나이는 25살입니다.\n",
            "남자입니다.\n",
            "\n",
            "나의 이름은 장미입니다.\n",
            "나이는 27살입니다.\n",
            "여자입니다.\n"
          ]
        }
      ]
    },
    {
      "cell_type": "markdown",
      "source": [
        "#### 함수 안에서 함수 밖의 변수 변경"
      ],
      "metadata": {
        "id": "w3sQEMRr60DP"
      }
    },
    {
      "cell_type": "code",
      "source": [
        "# return 사용하기\n",
        "a = 1\n",
        "def vartest(a):\n",
        "  a += 1\n",
        "  return a\n",
        "\n",
        "a = vartest(a)\n",
        "print(a)"
      ],
      "metadata": {
        "colab": {
          "base_uri": "https://localhost:8080/"
        },
        "id": "42BlaRx-6k4I",
        "outputId": "28812585-1d12-42c2-b183-befe46714e9d"
      },
      "execution_count": null,
      "outputs": [
        {
          "output_type": "stream",
          "name": "stdout",
          "text": [
            "2\n"
          ]
        }
      ]
    },
    {
      "cell_type": "code",
      "source": [
        "# global 명령어 사용하기\n",
        "# but 외부 변수에 종속적인 함수는 지양해야함\n",
        "a = 1\n",
        "def vartest():\n",
        "  global a\n",
        "  a += 1\n",
        "\n",
        "vartest()\n",
        "print(a)"
      ],
      "metadata": {
        "colab": {
          "base_uri": "https://localhost:8080/"
        },
        "id": "cLRo3sZW6_qG",
        "outputId": "89e967f5-ad40-4f41-e9e6-35a3379b1cf2"
      },
      "execution_count": null,
      "outputs": [
        {
          "output_type": "stream",
          "name": "stdout",
          "text": [
            "2\n"
          ]
        }
      ]
    },
    {
      "cell_type": "markdown",
      "source": [
        "#### lambda\n",
        ": def와 동일"
      ],
      "metadata": {
        "id": "hdMQ_OOc7Xvi"
      }
    },
    {
      "cell_type": "code",
      "source": [
        "# 함수명 = lambda 매개변수1, 매개변수2,...: 매개변수를 이용한 표현식\n",
        "add = lambda a, b: a+b\n",
        "result = add(3, 4)\n",
        "print(result)"
      ],
      "metadata": {
        "colab": {
          "base_uri": "https://localhost:8080/"
        },
        "id": "qDBVDGGx7H6K",
        "outputId": "b6f2ca05-db43-44a7-daa6-d9e2c1f93a34"
      },
      "execution_count": null,
      "outputs": [
        {
          "output_type": "stream",
          "name": "stdout",
          "text": [
            "7\n"
          ]
        }
      ]
    },
    {
      "cell_type": "markdown",
      "source": [
        "## 사용자 입력과 출력"
      ],
      "metadata": {
        "id": "bnykrxJ_xjYq"
      }
    },
    {
      "cell_type": "markdown",
      "source": [
        "### 사용자 입력\n",
        ": input"
      ],
      "metadata": {
        "id": "TdK3xl8pxmm2"
      }
    },
    {
      "cell_type": "code",
      "source": [
        "# 프롬프트 띄어서 사용자 입력 받기\n",
        "# input 입력은 무조건 문자열로 받음\n",
        "number = input(\"숫자를 입력하세요: \")\n",
        "print(number)"
      ],
      "metadata": {
        "colab": {
          "base_uri": "https://localhost:8080/"
        },
        "id": "CTf2IxEQxlaN",
        "outputId": "0339c7f4-75d4-4470-8114-1bd6f4461532"
      },
      "execution_count": 1,
      "outputs": [
        {
          "output_type": "stream",
          "name": "stdout",
          "text": [
            "숫자를 입력하세요: 3\n",
            "3\n"
          ]
        }
      ]
    },
    {
      "cell_type": "markdown",
      "source": [
        "### print 자세히 알기"
      ],
      "metadata": {
        "id": "d-mA8wkoyApZ"
      }
    },
    {
      "cell_type": "code",
      "source": [
        "# 따옴표로 둘러싸인 문자열을 연속 사용 = + 연산\n",
        "print(\"life\"\"is\"\"too short\")\n",
        "print(\"life\"+\"is\"+\"too short\")"
      ],
      "metadata": {
        "colab": {
          "base_uri": "https://localhost:8080/"
        },
        "id": "MaFjeLyrx2aX",
        "outputId": "7101e04f-ff8f-43f8-8b7e-a3ab9eb91601"
      },
      "execution_count": 2,
      "outputs": [
        {
          "output_type": "stream",
          "name": "stdout",
          "text": [
            "lifeistoo short\n",
            "lifeistoo short\n"
          ]
        }
      ]
    },
    {
      "cell_type": "code",
      "source": [
        "# 문자열 띄어쓰기 = , 사용\n",
        "print(\"life\",\"is\",\"too short\")"
      ],
      "metadata": {
        "colab": {
          "base_uri": "https://localhost:8080/"
        },
        "id": "fQtJZXpVyIpC",
        "outputId": "54b19a10-7812-4b19-f0da-622570f3a1c3"
      },
      "execution_count": 3,
      "outputs": [
        {
          "output_type": "stream",
          "name": "stdout",
          "text": [
            "life is too short\n"
          ]
        }
      ]
    },
    {
      "cell_type": "code",
      "source": [
        "# 한 줄에 결괏값 출력하기\n",
        "for i in range(10):\n",
        "  print(i, end = ' ')"
      ],
      "metadata": {
        "colab": {
          "base_uri": "https://localhost:8080/"
        },
        "id": "RkvxMtNvyVZc",
        "outputId": "474587ce-122e-4ae8-c5f6-9c4456209df5"
      },
      "execution_count": 4,
      "outputs": [
        {
          "output_type": "stream",
          "name": "stdout",
          "text": [
            "0 1 2 3 4 5 6 7 8 9 "
          ]
        }
      ]
    },
    {
      "cell_type": "markdown",
      "source": [
        "### 파일 읽고 쓰기"
      ],
      "metadata": {
        "id": "cMMNG7Mpyc3n"
      }
    },
    {
      "cell_type": "markdown",
      "source": [
        "#### 파일 생성하기"
      ],
      "metadata": {
        "id": "N3ORIR-XyhWR"
      }
    },
    {
      "cell_type": "markdown",
      "source": [
        "r: 읽기모드\n",
        "w: 쓰기모드\n",
        "a: 추가모드"
      ],
      "metadata": {
        "id": "WWP5Qswdyn7q"
      }
    },
    {
      "cell_type": "code",
      "source": [
        "f = open(\"새파일.txt\", 'w')\n",
        "f.close()"
      ],
      "metadata": {
        "id": "He0AZcfjya41"
      },
      "execution_count": 5,
      "outputs": []
    },
    {
      "cell_type": "code",
      "source": [
        "# 디렉터리 안에 생성 시\n",
        "# 경로 표시 시 / 사용\n",
        "# \\ 사용 시 \\\\ 사용하거나 r\"C:\\~\" 이런 식으로 사용해야 함.\n",
        "# f = open(\"C:/doit/새파일.txt\", 'w)\n",
        "# f.close()"
      ],
      "metadata": {
        "id": "SLqAQMyiylYG"
      },
      "execution_count": 6,
      "outputs": []
    },
    {
      "cell_type": "markdown",
      "source": [
        "#### 파일을 쓰기 모드로 열어 내용 쓰기"
      ],
      "metadata": {
        "id": "tuQzdOQ_zYI7"
      }
    },
    {
      "cell_type": "code",
      "source": [
        "f = open(\"새파일.txt\", 'w')\n",
        "for i in range(1, 11):\n",
        "  data = \"%d번쨰 줄입니다.\\n\" %i\n",
        "  f.write(data)\n",
        "f.close()"
      ],
      "metadata": {
        "id": "Y5yYq3NIzHc8"
      },
      "execution_count": 7,
      "outputs": []
    },
    {
      "cell_type": "markdown",
      "source": [
        "#### 파일을 읽는 여러가지 방법 "
      ],
      "metadata": {
        "id": "I1jVAL7xzvXO"
      }
    },
    {
      "cell_type": "code",
      "source": [
        "# readline 함수 이용하기 - 한 줄 읽기\n",
        "f = open(\"새파일.txt\", 'r')\n",
        "line = f.readline()\n",
        "print(line)\n",
        "f.close()"
      ],
      "metadata": {
        "colab": {
          "base_uri": "https://localhost:8080/"
        },
        "id": "vKysj9mszoSw",
        "outputId": "ccb28631-72a9-415e-e952-edbac2c5ac69"
      },
      "execution_count": 8,
      "outputs": [
        {
          "output_type": "stream",
          "name": "stdout",
          "text": [
            "1번쨰 줄입니다.\n",
            "\n"
          ]
        }
      ]
    },
    {
      "cell_type": "code",
      "source": [
        "# readline 함수 이용하기 - 모든 줄 읽기\n",
        "f = open(\"새파일.txt\", 'r')\n",
        "while True:\n",
        "  line = f.readline()\n",
        "  if not line: break\n",
        "  print(line)\n",
        "f.close()"
      ],
      "metadata": {
        "colab": {
          "base_uri": "https://localhost:8080/"
        },
        "id": "HnOVVajvz_xh",
        "outputId": "abdc8023-5602-417c-cccd-64cc2b44ca8c"
      },
      "execution_count": 9,
      "outputs": [
        {
          "output_type": "stream",
          "name": "stdout",
          "text": [
            "1번쨰 줄입니다.\n",
            "\n",
            "2번쨰 줄입니다.\n",
            "\n",
            "3번쨰 줄입니다.\n",
            "\n",
            "4번쨰 줄입니다.\n",
            "\n",
            "5번쨰 줄입니다.\n",
            "\n",
            "6번쨰 줄입니다.\n",
            "\n",
            "7번쨰 줄입니다.\n",
            "\n",
            "8번쨰 줄입니다.\n",
            "\n",
            "9번쨰 줄입니다.\n",
            "\n",
            "10번쨰 줄입니다.\n",
            "\n"
          ]
        }
      ]
    },
    {
      "cell_type": "code",
      "source": [
        "# readlines 함수 이용\n",
        "f = open(\"새파일.txt\", 'r')\n",
        "lines = f.readlines()\n",
        "for line in lines:\n",
        "  print(line)\n",
        "f.close()"
      ],
      "metadata": {
        "colab": {
          "base_uri": "https://localhost:8080/"
        },
        "id": "FNQGPc550Odp",
        "outputId": "24659a43-421d-45cd-bbdf-82a2eb68a9b6"
      },
      "execution_count": 10,
      "outputs": [
        {
          "output_type": "stream",
          "name": "stdout",
          "text": [
            "1번쨰 줄입니다.\n",
            "\n",
            "2번쨰 줄입니다.\n",
            "\n",
            "3번쨰 줄입니다.\n",
            "\n",
            "4번쨰 줄입니다.\n",
            "\n",
            "5번쨰 줄입니다.\n",
            "\n",
            "6번쨰 줄입니다.\n",
            "\n",
            "7번쨰 줄입니다.\n",
            "\n",
            "8번쨰 줄입니다.\n",
            "\n",
            "9번쨰 줄입니다.\n",
            "\n",
            "10번쨰 줄입니다.\n",
            "\n"
          ]
        }
      ]
    },
    {
      "cell_type": "code",
      "source": [
        "# \\n 문자 제거하기\n",
        "# readlines 함수 이용\n",
        "f = open(\"새파일.txt\", 'r')\n",
        "lines = f.readlines()\n",
        "for line in lines:\n",
        "  line = line.strip()\n",
        "  print(line)\n",
        "f.close()"
      ],
      "metadata": {
        "colab": {
          "base_uri": "https://localhost:8080/"
        },
        "id": "xPYQYUXJ0e0T",
        "outputId": "e47a24ba-fd3c-4956-a2c1-0421cc945402"
      },
      "execution_count": 12,
      "outputs": [
        {
          "output_type": "stream",
          "name": "stdout",
          "text": [
            "1번쨰 줄입니다.\n",
            "2번쨰 줄입니다.\n",
            "3번쨰 줄입니다.\n",
            "4번쨰 줄입니다.\n",
            "5번쨰 줄입니다.\n",
            "6번쨰 줄입니다.\n",
            "7번쨰 줄입니다.\n",
            "8번쨰 줄입니다.\n",
            "9번쨰 줄입니다.\n",
            "10번쨰 줄입니다.\n"
          ]
        }
      ]
    },
    {
      "cell_type": "code",
      "source": [
        "# 궁금해서 해본 것\n",
        "f = open(\"새파일.txt\", 'r')\n",
        "lines = f.readlines()\n",
        "print(lines)"
      ],
      "metadata": {
        "colab": {
          "base_uri": "https://localhost:8080/"
        },
        "id": "T_x44Aiv0Yms",
        "outputId": "fddd8493-e727-4d9c-86a1-37b6319150bb"
      },
      "execution_count": 11,
      "outputs": [
        {
          "output_type": "stream",
          "name": "stdout",
          "text": [
            "['1번쨰 줄입니다.\\n', '2번쨰 줄입니다.\\n', '3번쨰 줄입니다.\\n', '4번쨰 줄입니다.\\n', '5번쨰 줄입니다.\\n', '6번쨰 줄입니다.\\n', '7번쨰 줄입니다.\\n', '8번쨰 줄입니다.\\n', '9번쨰 줄입니다.\\n', '10번쨰 줄입니다.\\n']\n"
          ]
        }
      ]
    },
    {
      "cell_type": "code",
      "source": [
        "# read 함수 사용\n",
        "# readlines 함수 이용\n",
        "f = open(\"새파일.txt\", 'r')\n",
        "data = f.read()\n",
        "print(data)\n",
        "f.close()"
      ],
      "metadata": {
        "colab": {
          "base_uri": "https://localhost:8080/"
        },
        "id": "tGCWIHKc0cBv",
        "outputId": "e1018dc2-c995-471c-f20c-8c897717a65a"
      },
      "execution_count": 13,
      "outputs": [
        {
          "output_type": "stream",
          "name": "stdout",
          "text": [
            "1번쨰 줄입니다.\n",
            "2번쨰 줄입니다.\n",
            "3번쨰 줄입니다.\n",
            "4번쨰 줄입니다.\n",
            "5번쨰 줄입니다.\n",
            "6번쨰 줄입니다.\n",
            "7번쨰 줄입니다.\n",
            "8번쨰 줄입니다.\n",
            "9번쨰 줄입니다.\n",
            "10번쨰 줄입니다.\n",
            "\n"
          ]
        }
      ]
    },
    {
      "cell_type": "code",
      "source": [
        "# 파일 객체를 for문과 함께 사용하기\n",
        "# readlines 함수 이용\n",
        "f = open(\"새파일.txt\", 'r')\n",
        "for line in f:\n",
        "  print(line)\n",
        "f.close()"
      ],
      "metadata": {
        "colab": {
          "base_uri": "https://localhost:8080/"
        },
        "id": "RHAeuL2Y0wNL",
        "outputId": "91323a4d-54fa-4362-e9e8-07046ad6806c"
      },
      "execution_count": 15,
      "outputs": [
        {
          "output_type": "stream",
          "name": "stdout",
          "text": [
            "1번쨰 줄입니다.\n",
            "\n",
            "2번쨰 줄입니다.\n",
            "\n",
            "3번쨰 줄입니다.\n",
            "\n",
            "4번쨰 줄입니다.\n",
            "\n",
            "5번쨰 줄입니다.\n",
            "\n",
            "6번쨰 줄입니다.\n",
            "\n",
            "7번쨰 줄입니다.\n",
            "\n",
            "8번쨰 줄입니다.\n",
            "\n",
            "9번쨰 줄입니다.\n",
            "\n",
            "10번쨰 줄입니다.\n",
            "\n"
          ]
        }
      ]
    },
    {
      "cell_type": "markdown",
      "source": [
        "#### 파일에 새로운 내용 추가하기"
      ],
      "metadata": {
        "id": "33y9HpAx1A6x"
      }
    },
    {
      "cell_type": "code",
      "source": [
        "# adddata.py\n",
        "f = open(\"새파일.txt\", 'a')\n",
        "for i in range(11, 20):\n",
        "  data = \"%d번째 줄입니다.\\n\" %i\n",
        "  f.write(data)\n",
        "f.close()"
      ],
      "metadata": {
        "id": "m5ui3VVb04Md"
      },
      "execution_count": 16,
      "outputs": []
    },
    {
      "cell_type": "code",
      "source": [
        "# with문과 함께 사용하기\n",
        "# 파일을 열고 닫는 것 자동 처리\n",
        "with open(\"foo.txt\", \"w\") as f:\n",
        "  f.write(\"Life is too short, you need python.\")"
      ],
      "metadata": {
        "id": "eGWdKb2R1N2f"
      },
      "execution_count": 17,
      "outputs": []
    },
    {
      "cell_type": "markdown",
      "source": [
        "### 프로그램의 입력과 출력"
      ],
      "metadata": {
        "id": "BlBw5Y4a1sZw"
      }
    },
    {
      "cell_type": "code",
      "source": [
        "# sys 모듈을 사용하여 프로그램에 인수 전달\n",
        "import sys \n",
        "\n",
        "args = sys.argv[1:]\n",
        "for i in args:\n",
        "  print(i)"
      ],
      "metadata": {
        "colab": {
          "base_uri": "https://localhost:8080/"
        },
        "id": "xluuRe2F1gRT",
        "outputId": "d85a2cf5-6607-4903-c74b-8613629781b2"
      },
      "execution_count": 18,
      "outputs": [
        {
          "output_type": "stream",
          "name": "stdout",
          "text": [
            "-f\n",
            "/root/.local/share/jupyter/runtime/kernel-ede891a6-fd80-46d9-8aa8-4682bb67e676.json\n"
          ]
        }
      ]
    },
    {
      "cell_type": "markdown",
      "source": [
        "## 클래스"
      ],
      "metadata": {
        "id": "bKLjcN0x2MKk"
      }
    },
    {
      "cell_type": "markdown",
      "source": [
        "### 클래스 만들기"
      ],
      "metadata": {
        "id": "ZbKpNHIW4tgj"
      }
    },
    {
      "cell_type": "code",
      "source": [
        "# 클래스 만드는 순서\n",
        "# 1. 클래스를 어떻게 만들지 먼저 구성\n",
        "\n",
        "# 2. 클래스 구조 만들기\n",
        "# class Fourcal:\n",
        "#   pass\n",
        "\n",
        "# 3. 객체에 숫자 지정할 수 있게 만들기\n",
        "#    메서드의 self 매개변수는 호추된 객체 a가 자동 전달\n",
        "class FourCal:\n",
        "  def setdata(self, first, second): # 메서드의 매개변수\n",
        "    self.first = first  # 메서드의 수행문\n",
        "    self.second = second  # 메서드의 수행문\n",
        "    \n",
        "  # 더하기 기능\n",
        "  def add(self):\n",
        "    result = self.first + self.second\n",
        "    return result\n",
        "  \n",
        "  # 뺄셈 기능\n",
        "  def sub(self):\n",
        "    result = self.first - self.second\n",
        "    return result\n",
        "\n",
        "  # 곱하기 기능\n",
        "  def mul(self):\n",
        "    result = self.first * self.second\n",
        "    return result\n",
        "\n",
        "  # 나누기 기능\n",
        "  def div(self):\n",
        "    result = self.first / self.second\n",
        "    return result\n",
        "\n",
        "a = FourCal()\n",
        "b = FourCal()\n",
        "\n",
        "a.setdata(4, 2)\n",
        "b.setdata(3, 8)\n",
        "\n",
        "print(a.add())\n",
        "print(a.sub())\n",
        "print(a.mul())\n",
        "print(a.div())\n",
        "\n",
        "print(b.add())\n",
        "print(b.sub())\n",
        "print(b.mul())\n",
        "print(b.div())"
      ],
      "metadata": {
        "colab": {
          "base_uri": "https://localhost:8080/"
        },
        "id": "AQYVBWwu15NL",
        "outputId": "9b815595-dbce-405d-e482-ac8839ca102f"
      },
      "execution_count": 23,
      "outputs": [
        {
          "output_type": "stream",
          "name": "stdout",
          "text": [
            "6\n",
            "2\n",
            "8\n",
            "2.0\n",
            "11\n",
            "-5\n",
            "24\n",
            "0.375\n"
          ]
        }
      ]
    },
    {
      "cell_type": "markdown",
      "source": [
        "### 생성자\n",
        ": 객체가 생성될 때 자동으로 호출되는 메서드"
      ],
      "metadata": {
        "id": "xoXdTb7c4r7m"
      }
    },
    {
      "cell_type": "code",
      "source": [
        "# 초깃값을 설정해야 할 필요가 있을 때는 생성자 구현이 안전한 방법\n",
        "# __init__ 사용\n",
        "# 계산 클래스\n",
        "class FourCal:\n",
        "  def __init__(self, first, second): # 메서드의 매개변수\n",
        "    self.first = first  # 메서드의 수행문\n",
        "    self.second = second  # 메서드의 수행문\n",
        "\n",
        "  def setdata(self, first, second): # 메서드의 매개변수\n",
        "    self.first = first  # 메서드의 수행문\n",
        "    self.second = second  # 메서드의 수행문\n",
        "    \n",
        "  # 더하기 기능\n",
        "  def add(self):\n",
        "    result = self.first + self.second\n",
        "    return result\n",
        "  \n",
        "  # 뺄셈 기능\n",
        "  def sub(self):\n",
        "    result = self.first - self.second\n",
        "    return result\n",
        "\n",
        "  # 곱하기 기능\n",
        "  def mul(self):\n",
        "    result = self.first * self.second\n",
        "    return result\n",
        "\n",
        "  # 나누기 기능\n",
        "  def div(self):\n",
        "    result = self.first / self.second\n",
        "    return result\n",
        "\n",
        "a = FourCal(4,2)\n",
        "print(a.first, a.second)\n",
        "print(a.add())\n",
        "print(a.sub())\n",
        "print(a.mul())\n",
        "print(a.div())"
      ],
      "metadata": {
        "colab": {
          "base_uri": "https://localhost:8080/"
        },
        "id": "__sdCrYg3j-E",
        "outputId": "ba385928-6b87-41b7-bc15-beb55041887d"
      },
      "execution_count": 26,
      "outputs": [
        {
          "output_type": "stream",
          "name": "stdout",
          "text": [
            "4 2\n",
            "6\n",
            "2\n",
            "8\n",
            "2.0\n"
          ]
        }
      ]
    },
    {
      "cell_type": "markdown",
      "source": [
        "### 클래스의 상속"
      ],
      "metadata": {
        "id": "9uRczmPu52mg"
      }
    },
    {
      "cell_type": "code",
      "source": [
        "# FourCal 클래스를 상속하는 MoreFourCal 클래스 생성\n",
        "class MoreFourCal(FourCal):\n",
        "  def pow(self):\n",
        "    result = self.first ** self.second\n",
        "    return result\n",
        "\n",
        "a = MoreFourCal(3, 4)\n",
        "a.pow()"
      ],
      "metadata": {
        "colab": {
          "base_uri": "https://localhost:8080/"
        },
        "id": "kC_Mq7Wy5wiS",
        "outputId": "53909dde-ee1e-4cbb-faa2-e12e9e2f5b74"
      },
      "execution_count": 29,
      "outputs": [
        {
          "output_type": "execute_result",
          "data": {
            "text/plain": [
              "81"
            ]
          },
          "metadata": {},
          "execution_count": 29
        }
      ]
    },
    {
      "cell_type": "markdown",
      "source": [
        "### 메서드 오버라이딩\n",
        ": 동일 이름, 동일 수, 데이터 타입 매개변수 사용 시"
      ],
      "metadata": {
        "id": "lLUC3IHB6ah8"
      }
    },
    {
      "cell_type": "code",
      "source": [
        "# 0으로 나누면 0이 리턴되는 SafeFourCal 클래스 생성\n",
        "class SafeFourCal(FourCal):\n",
        "  def div(self):\n",
        "    if self.second == 0:\n",
        "      return 0\n",
        "    else:\n",
        "      return self.first / self.second\n",
        "\n",
        "a = SafeFourCal(3, 0)\n",
        "print(a.div())\n",
        "print(a.add())"
      ],
      "metadata": {
        "colab": {
          "base_uri": "https://localhost:8080/"
        },
        "id": "UmBB2hfo6NwF",
        "outputId": "e083de14-f046-40da-ee46-4a024bc1ca95"
      },
      "execution_count": 30,
      "outputs": [
        {
          "output_type": "stream",
          "name": "stdout",
          "text": [
            "0\n",
            "3\n"
          ]
        }
      ]
    },
    {
      "cell_type": "markdown",
      "source": [
        "### 클래스 변수"
      ],
      "metadata": {
        "id": "zn2KxnhR7Epm"
      }
    },
    {
      "cell_type": "code",
      "source": [
        "class Family:\n",
        "  lastname = \"장\"\n",
        "\n",
        "a = Family()\n",
        "b = Family()\n",
        "\n",
        "print(\"a.lastname: \", a.lastname)\n",
        "print(\"b.lastname: \", b.lastname)\n",
        "\n",
        "Family.lastname = \"김\"\n",
        "print(\"a.lastname: \", a.lastname)\n",
        "print(\"b.lastname: \", b.lastname)\n",
        "\n",
        "a.lastname = \"최\"\n",
        "print(\"Family.lastname: \", Family.lastname)\n",
        "print(\"a.lastname: \", a.lastname)\n",
        "print(\"b.lastname: \", b.lastname)"
      ],
      "metadata": {
        "colab": {
          "base_uri": "https://localhost:8080/"
        },
        "id": "frsRKz1q7B1n",
        "outputId": "bb591504-ebce-4b25-cbde-543ad7ccdcf3"
      },
      "execution_count": 34,
      "outputs": [
        {
          "output_type": "stream",
          "name": "stdout",
          "text": [
            "a.lastname:  장\n",
            "b.lastname:  장\n",
            "a.lastname:  김\n",
            "b.lastname:  김\n",
            "Family.lastname:  김\n",
            "a.lastname:  최\n",
            "b.lastname:  김\n"
          ]
        }
      ]
    },
    {
      "cell_type": "markdown",
      "source": [
        "## 모듈\n",
        ": 함수나 변수 또는 클래스를 모아 놓은 파이썬 파일"
      ],
      "metadata": {
        "id": "Oa4aprjT77bV"
      }
    },
    {
      "cell_type": "markdown",
      "source": [
        "### 모듈 만들기"
      ],
      "metadata": {
        "id": "uRzqAjFp8CD0"
      }
    },
    {
      "cell_type": "code",
      "source": [
        "# # mod1.py\n",
        "# def add(a, b):\n",
        "#     return a + b\n",
        "\n",
        "# def sub(a, b): \n",
        "#     return a-b"
      ],
      "metadata": {
        "id": "Duw6kSD-7gCL"
      },
      "execution_count": 35,
      "outputs": []
    },
    {
      "cell_type": "markdown",
      "source": [
        "### 모듈 불러오기"
      ],
      "metadata": {
        "id": "NDLwKAwa8JP9"
      }
    },
    {
      "cell_type": "code",
      "source": [
        "# import mod1\n",
        "# print(mod1.add(3, 4))\n",
        "# print(mod1.sub(4, 2))"
      ],
      "metadata": {
        "id": "DVnn0XB48Kc3"
      },
      "execution_count": 36,
      "outputs": []
    },
    {
      "cell_type": "code",
      "source": [
        "# from mod1 import add, sub\n",
        "# from mod1 import *\n",
        "# add(3, 4)"
      ],
      "metadata": {
        "id": "j3TKBai08YnU"
      },
      "execution_count": 37,
      "outputs": []
    },
    {
      "cell_type": "markdown",
      "source": [
        "### if_name_ == \"_main_\""
      ],
      "metadata": {
        "id": "7bhLCEnZ8nE3"
      }
    },
    {
      "cell_type": "code",
      "source": [
        "# # mod1.py \n",
        "# def add(a, b): \n",
        "#     return a+b\n",
        "\n",
        "# def sub(a, b): \n",
        "#     return a-b\n",
        "\n",
        "# print(add(1, 4))\n",
        "# print(sub(4, 2))"
      ],
      "metadata": {
        "id": "ufGQZKKC8hEl"
      },
      "execution_count": 38,
      "outputs": []
    },
    {
      "cell_type": "code",
      "source": [
        "# # 결과값\n",
        "# import mod1\n",
        "# 5\n",
        "# 2"
      ],
      "metadata": {
        "id": "SxIkAB5_81Jn"
      },
      "execution_count": 39,
      "outputs": []
    },
    {
      "cell_type": "code",
      "source": [
        "# 위와 같은 상황을 방지하기 위해서는 아래와 같이 작성\n",
        "# # mod1.py \n",
        "# def add(a, b): \n",
        "#     return a+b\n",
        "\n",
        "# def sub(a, b): \n",
        "#     return a-b\n",
        "\n",
        "# if __name__ == \"__main__\":\n",
        "#     print(add(1, 4))\n",
        "#     print(sub(4, 2))"
      ],
      "metadata": {
        "id": "TSWvdfsD8-y0"
      },
      "execution_count": 40,
      "outputs": []
    },
    {
      "cell_type": "markdown",
      "source": [
        "### 클래스나 변수 등을 포함한 모듈"
      ],
      "metadata": {
        "id": "BJ3ufV3w9PeR"
      }
    },
    {
      "cell_type": "code",
      "source": [
        "# # mod2.py \n",
        "# PI = 3.141592\n",
        "\n",
        "# class Math: \n",
        "#     def solv(self, r): \n",
        "#         return PI * (r ** 2) \n",
        "\n",
        "# def add(a, b): \n",
        "#     return a+b "
      ],
      "metadata": {
        "id": "UKfgdveh9O2-"
      },
      "execution_count": 41,
      "outputs": []
    },
    {
      "cell_type": "code",
      "source": [
        "# 다 사용 가능\n",
        "# print(mod2.PI)\n",
        "# a = mod2.Math()\n",
        "# print(a.solv(2))\n",
        "# print(mod2.add(mod2.PI, 4.4))"
      ],
      "metadata": {
        "id": "c6YmqONk9WcF"
      },
      "execution_count": 42,
      "outputs": []
    },
    {
      "cell_type": "markdown",
      "source": [
        "### 다른 파일에서 모듈 불러오기"
      ],
      "metadata": {
        "id": "QytkIGcF9oyK"
      }
    },
    {
      "cell_type": "code",
      "source": [
        "# # modtest.py\n",
        "# import mod2\n",
        "# result = mod2.add(3, 4)\n",
        "# print(result)"
      ],
      "metadata": {
        "id": "ibcb9cPT9gOc"
      },
      "execution_count": 43,
      "outputs": []
    },
    {
      "cell_type": "markdown",
      "source": [
        "### 모듈을 불러오는 또 다른 방법"
      ],
      "metadata": {
        "id": "IQq8a4RD9t4q"
      }
    },
    {
      "cell_type": "code",
      "source": [
        "# # sys.path.append 사용하기\n",
        "# import sys\n",
        "# sys.path.append(\"C:/doit/mymod\")\n",
        "\n",
        "# import mod2\n",
        "# print(mod2.add(3,4))"
      ],
      "metadata": {
        "id": "JyxdYdYq9shN"
      },
      "execution_count": 44,
      "outputs": []
    },
    {
      "cell_type": "code",
      "source": [
        "# # PYTHONPATH 환경 변수 사용하기\n",
        "# C:\\doit>set PYTHONPATH=C:\\doit\\mymod  # 맥이나 유닉스에서는 set대신 export 명령 사용\n",
        "# C:\\doit>python\n",
        "# >>> import mod2\n",
        "# >>> print(mod2.add(3,4))\n",
        "# 7"
      ],
      "metadata": {
        "id": "CtLaNVFZ-DCv"
      },
      "execution_count": 45,
      "outputs": []
    },
    {
      "cell_type": "markdown",
      "source": [
        "## 패키지"
      ],
      "metadata": {
        "id": "akFtWCLG-SJ_"
      }
    },
    {
      "cell_type": "code",
      "source": [
        "# 예시\n",
        "# game/\n",
        "#     __init__.py\n",
        "#     sound/\n",
        "#         __init__.py\n",
        "#         echo.py\n",
        "#         wav.py\n",
        "#     graphic/\n",
        "#         __init__.py\n",
        "#         screen.py\n",
        "#         render.py\n",
        "#     play/\n",
        "#         __init__.py\n",
        "#         run.py\n",
        "#         test.py"
      ],
      "metadata": {
        "id": "cg2__xzE-Opo"
      },
      "execution_count": null,
      "outputs": []
    },
    {
      "cell_type": "markdown",
      "source": [
        "### 패키지 만들기"
      ],
      "metadata": {
        "id": "OeAEPT3H-hCj"
      }
    },
    {
      "cell_type": "code",
      "source": [
        "# 명령 프롬프트에서 파이썬 인터프리터를 실행\n",
        "# # 패키지 기본 구성요소 준비하기\n",
        "# 1. 디렉터리 생성\n",
        "# C:/doit/game/__init__.py\n",
        "# C:/doit/game/sound/__init__.py\n",
        "# C:/doit/game/sound/echo.py\n",
        "# C:/doit/game/graphic/__init__.py\n",
        "# C:/doit/game/graphic/render.py\n",
        "\n",
        "# 2. 각 디렉터리에 __init__.py 파일을 만들어 놓기만 하고 내용은 일단 비워 둔다.\n",
        "\n",
        "# 3. echo.py 파일은 다음과 같이 만든다.\n",
        "# # echo.py\n",
        "# def echo_test():\n",
        "#     print(\"echo\")\n",
        "\n",
        "# 4. render.py 파일은 다음과 같이 만든다.\n",
        "# # render.py\n",
        "# def render_test():\n",
        "#     print(\"render\")   "
      ],
      "metadata": {
        "id": "ropDfQCY-ihH"
      },
      "execution_count": null,
      "outputs": []
    },
    {
      "cell_type": "markdown",
      "source": [
        "### 패키지 안의 함수 실행하기"
      ],
      "metadata": {
        "id": "x2G1UTqo_DaH"
      }
    },
    {
      "cell_type": "code",
      "source": [
        "# # 첫번째\n",
        "# import game.sound.echo\n",
        "# game.sound.echo.echo_test()\n",
        "\n",
        "# # 두번째\n",
        "# from game.sound import echo\n",
        "# echo.echo_test()\n",
        "\n",
        "# # 세번째\n",
        "# from game.sound.echo import echo_test\n",
        "# echo_test()"
      ],
      "metadata": {
        "id": "TPXbsI_A_FNV"
      },
      "execution_count": null,
      "outputs": []
    },
    {
      "cell_type": "markdown",
      "source": [
        "### __init__.py 의 용도\n",
        ": 해당 디렉터리가 패키지의 일부임을 알려줌"
      ],
      "metadata": {
        "id": "Tcad_uT1_b9X"
      }
    },
    {
      "cell_type": "code",
      "source": [
        "# # 패키지 변수 및 함수 정의\n",
        "# # 공통 변수나 함수 정의 가능\n",
        "# # C:/doit/game/__init__.py\n",
        "# VERSION = 3.5\n",
        "\n",
        "# def print_version_info():\n",
        "#     print(f\"The version of this game is {VERSION}.\")"
      ],
      "metadata": {
        "id": "DPVh96Cg_iJp"
      },
      "execution_count": 46,
      "outputs": []
    },
    {
      "cell_type": "code",
      "source": [
        "# 이렇게 사용 가능\n",
        "# import game\n",
        "# print(game.VERSION)"
      ],
      "metadata": {
        "id": "tE3OR8ZR_t2k"
      },
      "execution_count": 47,
      "outputs": []
    },
    {
      "cell_type": "code",
      "source": [
        "# # 패키지 내 모듈을 미리 import\n",
        "# # C:/doit/game/__init__.py\n",
        "# from .graphic.render import render_test\n",
        "\n",
        "# VERSION = 3.5\n",
        "\n",
        "# def print_version_info():\n",
        "#     print(f\"The version of this game is {VERSION}.\")"
      ],
      "metadata": {
        "id": "qJ9UnFkG_9Vm"
      },
      "execution_count": 48,
      "outputs": []
    },
    {
      "cell_type": "code",
      "source": [
        "# # 이렇게 사용 가능\n",
        "# import game\n",
        "# game.render_test()"
      ],
      "metadata": {
        "id": "oN1kN7-YABqK"
      },
      "execution_count": 49,
      "outputs": []
    },
    {
      "cell_type": "code",
      "source": [
        "# # 패이지 초기화\n",
        "# # C:/doit/game/__init__.py\n",
        "# from .graphic.render import render_test\n",
        "\n",
        "# VERSION = 3.5\n",
        "\n",
        "# def print_version_info():\n",
        "#     print(f\"The version of this game is {VERSION}.\")\n",
        "\n",
        "# # 여기에 패키지 초기화 코드를 작성한다.\n",
        "# print(\"Initializing game ...\")"
      ],
      "metadata": {
        "id": "8PC_AdKzAHaL"
      },
      "execution_count": 50,
      "outputs": []
    },
    {
      "cell_type": "code",
      "source": [
        "# 이렇게 하면 패키지가 처음 import될 때 초기화 코드가 실행\n",
        "# import game"
      ],
      "metadata": {
        "id": "9Bro2pHhAM79"
      },
      "execution_count": 51,
      "outputs": []
    },
    {
      "cell_type": "code",
      "source": [
        "# # __all__\n",
        "# # 디렉터리 모듈을 *을 사용하여 import할 때에는 __init__.py파일에 __all__변수를 설정하고 import할 수 있는 모듈을 정의해주어야 함.\n",
        "# # C:/doit/game/sound/__init__.py\n",
        "# __all__ = ['echo']"
      ],
      "metadata": {
        "id": "QzPWBLVkAROO"
      },
      "execution_count": null,
      "outputs": []
    },
    {
      "cell_type": "markdown",
      "source": [
        "### Relative 패키지"
      ],
      "metadata": {
        "id": "qpu23E0eAlHJ"
      }
    },
    {
      "cell_type": "code",
      "source": [
        "# # render.py\n",
        "# from ..sound.echo import echo_test\n",
        "\n",
        "# def render_test():\n",
        "#     print(\"render\")\n",
        "#     echo_test()"
      ],
      "metadata": {
        "id": "LFEnj8KXAmud"
      },
      "execution_count": 52,
      "outputs": []
    },
    {
      "cell_type": "code",
      "source": [],
      "metadata": {
        "id": "-xSptOFsA0C6"
      },
      "execution_count": null,
      "outputs": []
    }
  ]
}