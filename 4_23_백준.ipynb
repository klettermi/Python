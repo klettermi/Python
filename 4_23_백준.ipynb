{
  "nbformat": 4,
  "nbformat_minor": 0,
  "metadata": {
    "colab": {
      "provenance": [],
      "authorship_tag": "ABX9TyOLBQtFeETooF+6nEHIO66g",
      "include_colab_link": true
    },
    "kernelspec": {
      "name": "python3",
      "display_name": "Python 3"
    },
    "language_info": {
      "name": "python"
    }
  },
  "cells": [
    {
      "cell_type": "markdown",
      "metadata": {
        "id": "view-in-github",
        "colab_type": "text"
      },
      "source": [
        "<a href=\"https://colab.research.google.com/github/klettermi/Python/blob/main/4_23_%EB%B0%B1%EC%A4%80.ipynb\" target=\"_parent\"><img src=\"https://colab.research.google.com/assets/colab-badge.svg\" alt=\"Open In Colab\"/></a>"
      ]
    },
    {
      "cell_type": "code",
      "execution_count": 2,
      "metadata": {
        "colab": {
          "base_uri": "https://localhost:8080/"
        },
        "id": "fEfYKp7vBUxh",
        "outputId": "cb4cc953-4c70-428b-aff5-146f58cdde5c"
      },
      "outputs": [
        {
          "output_type": "stream",
          "name": "stdout",
          "text": [
            "7 77 777\n",
            "861\n"
          ]
        }
      ],
      "source": [
        "# 입출력과 사칙연산\n",
        "# 꼬마 정민\n",
        "\n",
        "# A + B + C\n",
        "# input: A B C\n",
        "a, b, c = map(int, input().split())\n",
        "result = a + b + c\n",
        "print(result)"
      ]
    },
    {
      "cell_type": "code",
      "source": [
        "# 반복문\n",
        "# 코딩은 체육과목입니다\n",
        "\n",
        "# N바이트 정수까지 저장할 수 있다고 생각하는 정수 자료형의 이름\n",
        "# 1 long당 4byte\n",
        "\n",
        "# input : N\n",
        "\n",
        "N = int(input())\n",
        "if N % 4 != 0:\n",
        "  long_n = N//4 + 1\n",
        "elif N % 4 == 0:\n",
        "  long_n = N//4\n",
        "\n",
        "for i in range(long_n):\n",
        "  print('long', end = \" \")\n",
        "print('int')"
      ],
      "metadata": {
        "colab": {
          "base_uri": "https://localhost:8080/"
        },
        "id": "9lL8ThifCD7-",
        "outputId": "ec0bde73-8877-4d4d-d350-9f4954472a25"
      },
      "execution_count": 8,
      "outputs": [
        {
          "output_type": "stream",
          "name": "stdout",
          "text": [
            "20\n",
            "long long long long long int\n"
          ]
        }
      ]
    },
    {
      "cell_type": "code",
      "source": [
        "# 반복문\n",
        "# 코딩은 체육과목입니다\n",
        "\n",
        "# N바이트 정수까지 저장할 수 있다고 생각하는 정수 자료형의 이름\n",
        "# 1 long당 4byte\n",
        "\n",
        "# input : N\n",
        "\n",
        "# 문제에 4부터 시작한다고 했으니까 \n",
        "print(int(input())//4*'long '+'int')"
      ],
      "metadata": {
        "colab": {
          "base_uri": "https://localhost:8080/"
        },
        "id": "-vlR-zCeFEbW",
        "outputId": "cbdd8393-ecd5-4fb3-bf41-1c617f27348c"
      },
      "execution_count": 11,
      "outputs": [
        {
          "output_type": "stream",
          "name": "stdout",
          "text": [
            "20\n",
            "long long long long long int\n"
          ]
        }
      ]
    },
    {
      "cell_type": "code",
      "source": [],
      "metadata": {
        "id": "4I2ADyfhGIin"
      },
      "execution_count": null,
      "outputs": []
    }
  ]
}