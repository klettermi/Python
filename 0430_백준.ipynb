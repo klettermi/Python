{
  "nbformat": 4,
  "nbformat_minor": 0,
  "metadata": {
    "colab": {
      "provenance": [],
      "authorship_tag": "ABX9TyPWHRtd+gcqDuTexPGcuKE3",
      "include_colab_link": true
    },
    "kernelspec": {
      "name": "python3",
      "display_name": "Python 3"
    },
    "language_info": {
      "name": "python"
    }
  },
  "cells": [
    {
      "cell_type": "markdown",
      "metadata": {
        "id": "view-in-github",
        "colab_type": "text"
      },
      "source": [
        "<a href=\"https://colab.research.google.com/github/klettermi/Python/blob/main/0430_%EB%B0%B1%EC%A4%80.ipynb\" target=\"_parent\"><img src=\"https://colab.research.google.com/assets/colab-badge.svg\" alt=\"Open In Colab\"/></a>"
      ]
    },
    {
      "cell_type": "markdown",
      "source": [
        "그리디 알고리즘"
      ],
      "metadata": {
        "id": "Lz3UGnGVSrIs"
      }
    },
    {
      "cell_type": "markdown",
      "source": [
        "백준 1931번 회의실 배정\n",
        ">시작 시간과 끝나는 시간 주어짐\n",
        "각 회의가 겹치지 않게 하면서 회의실을 사용할 수 있는 회의의 최대 개수\n",
        "회의가 시작하면 중간에 중단 될 수 없음, 한 회의가 끝나는 것과 동시에 다음 회의 시작 가능\n",
        "\n",
        "input\n",
        ">첫째 줄에 회의의 수 N(1<= N <= 100,000)\n",
        "둘째 줄부터 N+1 줄까지 각 회의 정보, 공백을 사이로 회의 시작과 끝나는 시간\n",
        "\n",
        "output\n",
        "> 첫째 줄에 최대 사용할 수 있는 회의의 최대 개수 출력\n",
        "\n",
        "정당성 분석\n",
        "> 시작이 빨라도 회의시간이 길어 끝나는 시간이 늦어지면 비효율적이다\n",
        "\n",
        "\n",
        "> 끝나는 시간이 빠른 것이 중요\n",
        "> 그 다음 끝나는 시간이 빠른 것 중 시작시간이 이전 시간 보다 크거나 같은 것이 있으면 count++\n",
        "\n",
        "배운점\n",
        "\n",
        "> sort(), sorted(), sort()의 reverse, key 매개 변수, lambda 함수\n",
        "\n",
        "> 2차원 리스트 받기"
      ],
      "metadata": {
        "id": "wrR4AHtbbfIT"
      }
    },
    {
      "cell_type": "code",
      "execution_count": null,
      "metadata": {
        "colab": {
          "base_uri": "https://localhost:8080/"
        },
        "id": "vV7ZQ42_Sci-",
        "outputId": "1c193580-33f8-4d87-977d-410b667de890"
      },
      "outputs": [
        {
          "output_type": "stream",
          "name": "stdout",
          "text": [
            "11\n",
            "1 4\n",
            "3 5\n",
            "0 6\n",
            "5 7\n",
            "3 8\n",
            "5 9\n",
            "6 10\n",
            "8 11\n",
            "8 12\n",
            "2 13\n",
            "12 14\n",
            "2\n",
            "3\n",
            "4\n",
            "4\n"
          ]
        }
      ],
      "source": [
        "count = 1 # 가능한 최대 개수 하나는 무조건 가능하므로 1로 초기화\n",
        "myList = []   # 회의실 리스트 생성\n",
        "\n",
        "n = int(input())  # 회의 개수\n",
        "for i in range(n):  # 2차원 리스트로 시작 시간, 종료 시간 받기\n",
        "  myList.append(list(map(int, input().split())))\n",
        "\n",
        "# 끝나는 시간 기준 오름차순으로 정렬\n",
        "myList.sort(key = lambda myList:(myList[1], myList[0]))\n",
        "\n",
        "start_list = myList[0][1] # 처음 잡힌 회의\n",
        "\n",
        "for i in range(1, len(myList)): \n",
        "  if start_list <= myList[i][0]:  # 잡힌 회의와 다음 회의들 시작 시간 비교, 시작시간이 전 회의 끝나는 시간보다 크거나 같은것\n",
        "    count += 1  # 회의 개수 ++\n",
        "    start_list = myList[i][1] # 잡힌 회의 업데이트\n",
        "\n",
        "print(count)"
      ]
    },
    {
      "cell_type": "markdown",
      "source": [
        "백준 1541번 잃어버린 괄호\n",
        "> 양수, +, -, ()를 가지고 식을 만듦 \n",
        "> 그리고 나서 괄호를 모두 지움\n",
        "> 괄호를 적절히 쳐서 이식의 최솟값을 만들고 싶음\n",
        "입력\n",
        "> 첫줄에 식 주어짐. 식음 0~9, +,-으로만 이루어져 있고 가장 처음과 마지막 문자는 숫자\n",
        "연속해서 연산자가 나타나지 않고, 5자리보다 연속되는 숫자는 없음, 수는 0으로 시작할 수 있고 입력으로 주어지는 식의 길이는 50보다 작거나 같다.\n",
        "\n",
        "출력\n",
        "> 첫째 줄에 정답 출력\n",
        "\n",
        "정당성 분석\n",
        "> - 뒤에서 괄호를 묶어주면 됨\n",
        "\n",
        "배운점\n",
        "> 문자 리스트 숫자로 바꾸기 list(map(int, 리스트명))\n",
        "\n",
        "> 연산자는 defualt 정렬 시 %, *, +, -, / 이 순서\n",
        "\n",
        "> 숫자와 연산자 섞여있는 문자열에서 숫자 추출하는 방법은 replace사용해서 연산자를 같은 문자로 바꾸어주고, split 사용해서 숫자만 추출"
      ],
      "metadata": {
        "id": "VdoZR6_j6LkI"
      }
    },
    {
      "cell_type": "code",
      "source": [
        "s = input()\n",
        "op = []\n",
        "\n",
        "# 숫자 리스트 만들기\n",
        "num = s.replace('+',' ').replace('-',' ')\n",
        "num = num.split(' ')\n",
        "num = list(map(int, num))\n",
        "\n",
        "# 연산자 리스트 만들기\n",
        "for i in range(len(s)):\n",
        "  if s[i] in ('+','-'):\n",
        "    op.append(s[i])\n",
        "\n",
        "result = num[0]\n",
        "\n",
        "\n",
        "# 순서대로 연산해주기\n",
        "for i in range(len(op)):\n",
        "  if op[i] == '+':\n",
        "    result += num[i+1]\n",
        "  elif op[i] == '-':\n",
        "    result -= num[i+1]\n",
        "\n",
        "print(result)"
      ],
      "metadata": {
        "colab": {
          "base_uri": "https://localhost:8080/"
        },
        "id": "nv8AtMMEbYmt",
        "outputId": "a7162796-ded0-4338-9bc6-7da3cc1ec9ee"
      },
      "execution_count": null,
      "outputs": [
        {
          "output_type": "stream",
          "name": "stdout",
          "text": [
            "55-50+40\n",
            "-35\n"
          ]
        }
      ]
    },
    {
      "cell_type": "code",
      "source": [
        "s = input().split('-')\n",
        "num = []  # 숫자 리스트\n",
        "\n",
        "for i in s:\n",
        "  cnt = 0\n",
        "  s = i.split('+')\n",
        "  for j in s:\n",
        "    cnt += int(j)\n",
        "  num.append(cnt)\n",
        "\n",
        "result = num[0]\n",
        "\n",
        "for i in range(1, len(num)):\n",
        "  result -= num[i]\n",
        "\n",
        "print(result)"
      ],
      "metadata": {
        "id": "kaRr0YFSAJ6E"
      },
      "execution_count": null,
      "outputs": []
    }
  ]
}