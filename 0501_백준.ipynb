{
  "nbformat": 4,
  "nbformat_minor": 0,
  "metadata": {
    "colab": {
      "provenance": [],
      "authorship_tag": "ABX9TyMH76SpVB/PyZjUFS5MCeEb",
      "include_colab_link": true
    },
    "kernelspec": {
      "name": "python3",
      "display_name": "Python 3"
    },
    "language_info": {
      "name": "python"
    }
  },
  "cells": [
    {
      "cell_type": "markdown",
      "metadata": {
        "id": "view-in-github",
        "colab_type": "text"
      },
      "source": [
        "<a href=\"https://colab.research.google.com/github/klettermi/Python/blob/main/0501_%EB%B0%B1%EC%A4%80.ipynb\" target=\"_parent\"><img src=\"https://colab.research.google.com/assets/colab-badge.svg\" alt=\"Open In Colab\"/></a>"
      ]
    },
    {
      "cell_type": "markdown",
      "source": [
        "## 백준 1026 보물"
      ],
      "metadata": {
        "id": "1YivmNBVEnW2"
      }
    },
    {
      "cell_type": "code",
      "source": [
        "# 시도1: 런타임 에러\n",
        "n = int(input())\n",
        "A = list(map(int, input().split()))\n",
        "B = list(map(int, input().split()))\n",
        "\n",
        "# 필요한 초기값\n",
        "sample_list = []  # B리스트 복사본\n",
        "max = B[0]  # B리스트 최대값 초기화\n",
        "index_list = [] # 인덱스 리스트\n",
        "A_new = [''] * n  # 정렬한 A 리스트\n",
        "result = 0  # 결과값\n",
        "\n",
        "# B리스트 복사본 (sample_list)\n",
        "for i in range(len(B)):\n",
        "  sample_list.append(B[i])\n",
        "\n",
        "# B의 큰 값부터의 인덱스 리스트 (index_list) 생성\n",
        "for k in range(len(B)-1):\n",
        "  for i in range(len(sample_list)):\n",
        "    if sample_list[i] >= max:\n",
        "      max = sample_list[i]\n",
        "  index_list.append(B.index(max))\n",
        "  sample_list.remove(max)\n",
        "  max = sample_list[0]\n",
        "\n",
        "index_list.append(B.index(sample_list[0]))\n",
        "\n",
        "# A 리스트 재정렬\n",
        "A.sort()\n",
        "for i in range(len(A)):\n",
        "  A_new[index_list[i]] = A[i]\n",
        "\n",
        "A = A_new\n",
        "\n",
        "# A, B 각 요소 곱의 합 구하기\n",
        "for i in range(len(A)):\n",
        "  result += (A_new[i]*B[i])\n",
        "\n",
        "print(result)"
      ],
      "metadata": {
        "colab": {
          "base_uri": "https://localhost:8080/"
        },
        "id": "5Nr3UhKFtvME",
        "outputId": "cb9b1df9-b3d6-4294-b0a7-95242a9206e9"
      },
      "execution_count": 93,
      "outputs": [
        {
          "output_type": "stream",
          "name": "stdout",
          "text": [
            "5\n",
            "1 1 1 6 0\n",
            "2 7 8 3 1\n",
            "18\n"
          ]
        }
      ]
    },
    {
      "cell_type": "code",
      "source": [
        "# dict 등 다양한 자료형을 사용하는 생각을 해야겠다\n",
        "# 리스트 전체 복제 copy()\n",
        "# 가장 큰 값을 찾는 max()\n",
        "# 리스트.index(값)\n",
        "# del 리스트[인덱스]\n",
        "# 리스트.remove(값)"
      ],
      "metadata": {
        "id": "u53Q_FT9vOHH"
      },
      "execution_count": null,
      "outputs": []
    },
    {
      "cell_type": "code",
      "source": [
        "# 정말로 간단히 해결되는 문제였다...\n",
        "# B는 재배열 할 필요 없다는 말에 꽂혀서 그냥 값을 가져와 곱할 생각을 하지 못했다...\n",
        "# 리스트"
      ],
      "metadata": {
        "id": "YEs8Fii3D3um"
      },
      "execution_count": null,
      "outputs": []
    },
    {
      "cell_type": "code",
      "source": [
        "# 남의 것\n",
        "n = int(input())\n",
        "A = list(map(int, input().split()))\n",
        "B = list(map(int, input().split()))\n",
        "\n",
        "res = 0\n",
        "A.sort()\n",
        "for i in A:\n",
        "  m = max(B)\n",
        "  res += i * m\n",
        "  B.pop(B.index(m))\n",
        "\n",
        "print(res)"
      ],
      "metadata": {
        "colab": {
          "base_uri": "https://localhost:8080/"
        },
        "id": "7ppq8WTQAyiK",
        "outputId": "63fee4de-d7f2-44bc-d854-306ac5f9d973"
      },
      "execution_count": 1,
      "outputs": [
        {
          "output_type": "stream",
          "name": "stdout",
          "text": [
            "5\n",
            "1 1 1 6 0\n",
            "2 7 8 3 1\n",
            "18\n"
          ]
        }
      ]
    },
    {
      "cell_type": "markdown",
      "source": [
        "## 백준 5585번 거스름돈"
      ],
      "metadata": {
        "id": "_NUxQOtgEsL-"
      }
    },
    {
      "cell_type": "code",
      "source": [
        "n = int(input())\n",
        "money = 1000 - n\n",
        "change = [500, 100, 50, 10, 5, 1]\n",
        "cnt = 0\n",
        "\n",
        "i = 0\n",
        "while(money != 0):\n",
        "  cnt += money//change[i]\n",
        "  money %= change[i]\n",
        "  i += 1\n",
        "\n",
        "print(cnt)"
      ],
      "metadata": {
        "colab": {
          "base_uri": "https://localhost:8080/"
        },
        "id": "EG9mvKtJCI-t",
        "outputId": "ac9eed17-6836-472d-ba7c-e145ff881d7c"
      },
      "execution_count": 5,
      "outputs": [
        {
          "output_type": "stream",
          "name": "stdout",
          "text": [
            "1\n",
            "15\n"
          ]
        }
      ]
    },
    {
      "cell_type": "markdown",
      "source": [
        "## 백준 10250번 ACM 호텔"
      ],
      "metadata": {
        "id": "UfefJXhNJ8kY"
      }
    },
    {
      "cell_type": "code",
      "source": [
        "t = int(input())\n",
        "\n",
        "ls = []\n",
        "\n",
        "for k in range(t):\n",
        "  h, w, n = map(int, input().split())\n",
        "  cnt = 0\n",
        "  for i in range(w):\n",
        "    for j in range(h):\n",
        "      if cnt == n:\n",
        "        break\n",
        "      else:\n",
        "        c_h = j+1\n",
        "        c_w = i+1\n",
        "        cnt += 1\n",
        "  ls.append((c_h, c_w))\n",
        "\n",
        "for i in range(t):\n",
        "  c_h = str(ls[i][0])\n",
        "  c_w = str(ls[i][1])\n",
        "\n",
        "  if len(c_w) == 1:\n",
        "    c_w = \"0\"+c_w\n",
        "  print(c_h + c_w)"
      ],
      "metadata": {
        "colab": {
          "base_uri": "https://localhost:8080/"
        },
        "id": "AawE3eREGWmJ",
        "outputId": "f665ee90-ad38-4ceb-8e88-2d93753ae682"
      },
      "execution_count": 23,
      "outputs": [
        {
          "output_type": "stream",
          "name": "stdout",
          "text": [
            "2\n",
            "6 12 10\n",
            "30 50 72\n",
            "402\n",
            "1203\n"
          ]
        }
      ]
    },
    {
      "cell_type": "code",
      "source": [
        "# 내 것\n",
        "h = 30\n",
        "w = 50\n",
        "n = 72\n",
        "cnt = 0\n",
        "\n",
        "for i in range(w):\n",
        "  for j in range(h):\n",
        "    if cnt == n:\n",
        "      break\n",
        "    else:\n",
        "      c_h = j+1\n",
        "      c_w = i+1\n",
        "      cnt += 1\n",
        "\n",
        "c_h = str(c_h)\n",
        "c_w = str(c_w)\n",
        "\n",
        "if len(c_w) == 1:\n",
        "  c_w = \"0\"+c_w\n",
        "print(c_h + c_w)"
      ],
      "metadata": {
        "colab": {
          "base_uri": "https://localhost:8080/"
        },
        "id": "IudI5RynKUax",
        "outputId": "9c0b2366-67fb-432e-8706-de6677caa51c"
      },
      "execution_count": 19,
      "outputs": [
        {
          "output_type": "stream",
          "name": "stdout",
          "text": [
            "1203\n"
          ]
        }
      ]
    },
    {
      "cell_type": "code",
      "source": [
        "# 여러 변수를 받을 때는 \n",
        "# 변수1, 변수2 = map(데이터 타입, input().split(구분자))"
      ],
      "metadata": {
        "id": "IwfJ4sB2LQRz"
      },
      "execution_count": 14,
      "outputs": []
    },
    {
      "cell_type": "code",
      "source": [
        "# 남의 것\n",
        "t = int(input())\n",
        "\n",
        "for i in range(t):\n",
        "    h, w, n = map(int, input().split())\n",
        "    num = n//h + 1\n",
        "    floor = n % h\n",
        "    if n % h == 0:  # h의 배수이면,\n",
        "        num = n//h\n",
        "        floor = h\n",
        "    print(f'{floor*100+num}')"
      ],
      "metadata": {
        "id": "O6xCpX2OLbVD"
      },
      "execution_count": null,
      "outputs": []
    }
  ]
}