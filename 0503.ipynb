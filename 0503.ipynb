{
  "nbformat": 4,
  "nbformat_minor": 0,
  "metadata": {
    "colab": {
      "provenance": [],
      "authorship_tag": "ABX9TyPfXadKWne7Za6Gq4E5HUbk",
      "include_colab_link": true
    },
    "kernelspec": {
      "name": "python3",
      "display_name": "Python 3"
    },
    "language_info": {
      "name": "python"
    }
  },
  "cells": [
    {
      "cell_type": "markdown",
      "metadata": {
        "id": "view-in-github",
        "colab_type": "text"
      },
      "source": [
        "<a href=\"https://colab.research.google.com/github/klettermi/Python/blob/main/0503.ipynb\" target=\"_parent\"><img src=\"https://colab.research.google.com/assets/colab-badge.svg\" alt=\"Open In Colab\"/></a>"
      ]
    },
    {
      "cell_type": "code",
      "execution_count": 4,
      "metadata": {
        "id": "6sKgf4BnnD4L",
        "colab": {
          "base_uri": "https://localhost:8080/"
        },
        "outputId": "7cf71f4a-4338-473d-eb1c-648d3079576b"
      },
      "outputs": [
        {
          "output_type": "stream",
          "name": "stdout",
          "text": [
            "3 3\n",
            "001\n",
            "010\n",
            "101\n",
            "3\n"
          ]
        }
      ],
      "source": [
        "# 음료수 얼려 먹기\n",
        "# DFS로 특정 노드를 방문하고 연결된 모든 노드들도 방문\n",
        "def dfs(x, y):\n",
        "  # 주어진 범위를 벗어나는 경우에는 즉시 종료\n",
        "  if x <= -1 or x >= n or y <=-1 or y >=m:\n",
        "    return False\n",
        "  # 현재 노드를 아직 방문하지 않았다면\n",
        "  if graph[x][y] == 0:\n",
        "    # 해당 노드 방문 처리\n",
        "    graph[x][y] = 1\n",
        "    # 상, 하, 좌, 우의 위치들도 모두 재귀적으로 호출\n",
        "    dfs(x - 1, y)\n",
        "    dfs(x, y + 1)\n",
        "    dfs(x + 1, y)\n",
        "    dfs(x, y + 1)\n",
        "    return True\n",
        "  return False\n",
        "\n",
        "# N, M을 공백을 기준으로 구분하여 입력 받기\n",
        "n, m = map(int, input().split())\n",
        "\n",
        "# 2차원 리스트의 맵 정보 입력 받기\n",
        "graph = []\n",
        "for i in range(n):\n",
        "  graph.append(list(map(int, input())))\n",
        "\n",
        "# 모든 노드(위치)에 대하여 음료수 채우기\n",
        "result = 0\n",
        "for i in range(n):\n",
        "  for j in range(m):\n",
        "    # 현재 위치에서 DFS 수행\n",
        "    if dfs(i, j) == True:\n",
        "      result += 1\n",
        "\n",
        "print(result)"
      ]
    },
    {
      "cell_type": "code",
      "source": [
        "# 미로 탈출\n",
        "from collections import deque\n",
        "\n",
        "# BFS 소스 코드 구현\n",
        "def bfs(x, y):\n",
        "  # 큐(Queue) 구현을 위해 deque 라이브러리 사용\n",
        "  queue = deque()\n",
        "  queue.append((x, y))\n",
        "  # 큐가 빌 때까지 반복하기\n",
        "  while queue:\n",
        "    x, y = queue.popleft()\n",
        "    # 현재 위치에서 4가지 방향으로 위치 확인\n",
        "    for i in range(4):\n",
        "      nx = x + dx[i]\n",
        "      ny = y + dy[i]\n",
        "      # 미로 찾기 공간을 벗어난 경우 무시\n",
        "      if nx < 0 or nx >= n or ny < 0 or ny >= m:\n",
        "        continue\n",
        "      # 벽인 경우 무시\n",
        "      if graph[nx][ny] == 1:\n",
        "        graph[nx][ny] = graph[x][y] + 1\n",
        "        queue.append((nx, ny))\n",
        "\n",
        "  # 가장 오른쪽 아래까지의 최단 거리 반환\n",
        "  return graph[n - 1][m - 1]\n",
        "\n",
        "# N, M을 공백을 기준으로 구분하여 입력 받기\n",
        "n, m = map(int, input().split())\n",
        "# 2차원 리스트의 맵 정보 입력 받기\n",
        "graph = []\n",
        "for i in range(n):\n",
        "  graph.append(list(map(int, input())))\n",
        "\n",
        "# 이동할 네 가지 방향 정의 (상, 하, 좌, 우)\n",
        "dx = [-1, 1, 0, 0]\n",
        "dy = [0, 0, -1, 1]\n",
        "\n",
        "# BFS를 수행한 결과 출력\n",
        "print(bfs(0, 0))"
      ],
      "metadata": {
        "colab": {
          "base_uri": "https://localhost:8080/"
        },
        "id": "sX9TWyH4phTT",
        "outputId": "d85630ee-a087-4f17-bf1b-a65a7ac3f89f"
      },
      "execution_count": 6,
      "outputs": [
        {
          "output_type": "stream",
          "name": "stdout",
          "text": [
            "3 3\n",
            "110\n",
            "010\n",
            "011\n",
            "5\n"
          ]
        }
      ]
    }
  ]
}