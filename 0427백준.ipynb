{
  "nbformat": 4,
  "nbformat_minor": 0,
  "metadata": {
    "colab": {
      "provenance": [],
      "authorship_tag": "ABX9TyO/BDF51M+AmytHdOHK6BKA",
      "include_colab_link": true
    },
    "kernelspec": {
      "name": "python3",
      "display_name": "Python 3"
    },
    "language_info": {
      "name": "python"
    }
  },
  "cells": [
    {
      "cell_type": "markdown",
      "metadata": {
        "id": "view-in-github",
        "colab_type": "text"
      },
      "source": [
        "<a href=\"https://colab.research.google.com/github/klettermi/Python/blob/main/0427%EB%B0%B1%EC%A4%80.ipynb\" target=\"_parent\"><img src=\"https://colab.research.google.com/assets/colab-badge.svg\" alt=\"Open In Colab\"/></a>"
      ]
    },
    {
      "cell_type": "code",
      "source": [
        "# 문제\n",
        "# input\n",
        "# output\n",
        "# 정당성 분석\n",
        "# 배운점\n",
        "# 코드"
      ],
      "metadata": {
        "id": "omKL9pBVMyjw"
      },
      "execution_count": null,
      "outputs": []
    },
    {
      "cell_type": "code",
      "execution_count": 13,
      "metadata": {
        "colab": {
          "base_uri": "https://localhost:8080/"
        },
        "id": "9wF_rSeOFVYg",
        "outputId": "e25a8c2e-f77c-4240-d456-1d17f6c2816c"
      },
      "outputs": [
        {
          "output_type": "stream",
          "name": "stdout",
          "text": [
            "11\n",
            "3\n"
          ]
        }
      ],
      "source": [
        "# 백준 2839번 설탕 배달\n",
        "# N킬로그램 배달\n",
        "# 3킬로그램봉지와 5킬로그램 봉지\n",
        "# 배달하는 최소 봉지 수는?\n",
        "\n",
        "# input\n",
        "# 첫째 줄 N\n",
        "\n",
        "# output\n",
        "# 상근이가 배달하는 봉지의 최소 갯수 출력, 만약, 정확하게 N킬로그램을 만들 수 없다면 -1 출력\n",
        "\n",
        "# 정당성 분석\n",
        "# 5킬로그램 봉지를 최대한 가져가는 것이 더 적은 수로 가져 갈 수 있음\n",
        "\n",
        "# 배운점\n",
        "# 반복문 사용을 잘 활용해야 겠음\n",
        "# 큰 걸 많이 구하고 싶을 때 나누어 떨어지지 않으면 작은 것을 빼고 다시 하는 생각을 해야겠음\n",
        "\n",
        "# 코드\n",
        "n = int(input())  # 배달해야하는 설탕 무게\n",
        "result = 0\n",
        "\n",
        "while n >=0:\n",
        "  if n % 5 == 0:  # 5로 나누어 떨어지면\n",
        "    result += (n//5)\n",
        "    print(result)\n",
        "    break\n",
        "   \n",
        "  n -= 3  # 5로 나누어 떨어지지 않으면 3을 빼줌\n",
        "  result += 1\n",
        "\n",
        "if n < 0: # 만약 n이 0보다 작아지면 -1 출력\n",
        "  print(-1)"
      ]
    },
    {
      "cell_type": "code",
      "source": [
        "# 백준 11399번 ATM\n",
        "# 1~N 번호가 있는 N명의 사람이 줄을 서있음\n",
        "# i번째 사람이 돈을 인출하는데 걸리는 시간은 P[i]분\n",
        "# 각 사람이 돈을 인출하는데 필요한 시간의 합의 최솟값\n",
        "\n",
        "# input\n",
        "# 첫째 줄에 사람의 수 N\n",
        "# 각 사람이 돈을 인출하는데 걸리는 시간 P[i]\n",
        "\n",
        "# output\n",
        "# 첫째 줄에 각 사람이 돈을 인출하는데 필요한 시간의 합의 최솟값\n",
        "\n",
        "# 정당성 분석\n",
        "# i번째 사람은 N-i+1번 만큼 반복해 더해진다\n",
        "# 시간이 적게 걸리는 사람부터 인출을 해야 시간의 합의 최솟값을 구할 수 있음\n",
        "\n",
        "# 배운점\n",
        "# range(n1, n2)에서 n2는 안들어감을 한 번 더 기억!\n",
        "\n",
        "# 코드\n",
        "N = int(input())  # 사람 수\n",
        "P = list(map(int, input().split( )))  # 필요 시간 리스트\n",
        "result = 0  # 최소 시간\n",
        "\n",
        "P.sort()  # 오름차순으로 정렬\n",
        "\n",
        "for i in range(0, len(P)):\n",
        "  for j in range(0, i+1):\n",
        "    result += P[j]\n",
        "\n",
        "print(result)"
      ],
      "metadata": {
        "colab": {
          "base_uri": "https://localhost:8080/"
        },
        "id": "EeGRwF4WG8Wm",
        "outputId": "f67c65b8-53ed-4372-a8f0-09da58355779"
      },
      "execution_count": 20,
      "outputs": [
        {
          "output_type": "stream",
          "name": "stdout",
          "text": [
            "5\n",
            "3 1 4 3 2\n",
            "32\n"
          ]
        }
      ]
    },
    {
      "cell_type": "code",
      "source": [
        "# 백준 11047번 동전 0\n",
        "# 총 N 종류, 매우 많이 가지고 있음\n",
        "# 동전을 사용해 합을 K\n",
        "# 필요한 동전 개수의 최솟값\n",
        "\n",
        "# input\n",
        "# 첫째 줄에 N과 K (1 ≤ N ≤ 10, 1 ≤ K ≤ 100,000,000)\n",
        "# 둘째 줄부터 동전의 가치 A[i]가 오름차순으로 주어짐 (1 ≤ A[i] ≤ 1,000,000, A[i] = 1, i ≥ 2인 경우에 A[i]는 A[i]-1의 배수)\n",
        "\n",
        "# output\n",
        "# 첫째 줄에 K원을 만드는데 필요한 동전의 개수의 최솟값 출력\n",
        "\n",
        "# 정당성 분석\n",
        "# 최솟값이므로 단위가 큰 동전부터 사용해야 함\n",
        "# 단위들이 모두 전 단위의 배수이기 때문에 작은 단위의 동전들을 조합해 다른 해가 나올 수 없음\n",
        "\n",
        "# 배운점\n",
        "# 뭔가 이상할 땐 차분히 하나씩 생각해보기\n",
        "\n",
        "# 코드\n",
        "N, K = map(int, input().split())  # 동전 종류 수 N, 합 K\n",
        "A = []  # 동전의 가치 리스트\n",
        "\n",
        "for i in range(0,N):\n",
        "  a = int(input())\n",
        "  A.append(a) \n",
        "\n",
        "A.sort(reverse=True)  # 내림차순으로 정렬\n",
        "\n",
        "result = 0  # 동전 개수의 최솟값\n",
        "\n",
        "for i in A:\n",
        "  result += (K // i)\n",
        "  K %= i\n",
        "\n",
        "print(result)"
      ],
      "metadata": {
        "colab": {
          "base_uri": "https://localhost:8080/"
        },
        "id": "hfaZnVWaPImk",
        "outputId": "46f798c0-24d3-4718-8ef7-f6a227e76408"
      },
      "execution_count": 29,
      "outputs": [
        {
          "output_type": "stream",
          "name": "stdout",
          "text": [
            "10 4790\n",
            "1\n",
            "5\n",
            "10\n",
            "50\n",
            "100\n",
            "500\n",
            "1000\n",
            "5000\n",
            "10000\n",
            "50000\n",
            "12\n"
          ]
        }
      ]
    },
    {
      "cell_type": "code",
      "source": [],
      "metadata": {
        "id": "0eZAkN5sTruS"
      },
      "execution_count": null,
      "outputs": []
    }
  ]
}